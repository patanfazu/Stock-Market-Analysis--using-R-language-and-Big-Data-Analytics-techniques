{
 "cells": [
  {
   "cell_type": "code",
   "execution_count": 2,
   "metadata": {},
   "outputs": [
    {
     "name": "stdout",
     "output_type": "stream",
     "text": [
      "                  Date  Open Price  High Price  Low Price  Close Price  \\\n",
      "0       1-January-2021      510.60      516.25     508.25       515.10   \n",
      "1     31-December-2020      515.95      518.45     506.60       509.30   \n",
      "2     30-December-2020      523.00      523.00     513.35       515.95   \n",
      "3     29-December-2020      521.95      525.00     515.10       520.25   \n",
      "4     28-December-2020      520.00      526.95     516.90       521.55   \n",
      "...                ...         ...         ...        ...          ...   \n",
      "2474    7-January-2011      353.90      354.75     335.00       338.70   \n",
      "2475    6-January-2011      351.00      355.35     351.00       353.25   \n",
      "2476    5-January-2011      353.90      355.70     348.35       349.90   \n",
      "2477    4-January-2011      361.00      361.75     353.10       355.30   \n",
      "2478    3-January-2011      358.40      364.90     354.50       359.35   \n",
      "\n",
      "             WAP  No.of Shares  No. of Trades  Total Turnover (Rs.)  \\\n",
      "0     511.767064        263094           4975           134642844.0   \n",
      "1     511.222590        367218           8045           187730137.0   \n",
      "2     516.111315        453614           7839           234115318.0   \n",
      "3     520.661240        356338           4591           185531385.0   \n",
      "4     522.491300        354822           5024           185391408.0   \n",
      "...          ...           ...            ...                   ...   \n",
      "2474  342.594042        358515           5778           122825103.0   \n",
      "2475  353.230604        196241           2516            69318327.0   \n",
      "2476  351.481252        172421           2552            60602749.0   \n",
      "2477  359.347771        510966           3163           183614493.0   \n",
      "2478  360.257123        316463           5263           114008050.0   \n",
      "\n",
      "      Deliverable Quantity  % Deli. Qty to Traded Qty  Spread High-Low  \\\n",
      "0                  41497.0                      15.77             8.00   \n",
      "1                  95310.0                      25.95            11.85   \n",
      "2                 132052.0                      29.11             9.65   \n",
      "3                  48296.0                      13.55             9.90   \n",
      "4                  62156.0                      17.52            10.05   \n",
      "...                    ...                        ...              ...   \n",
      "2474               73576.0                      20.52            19.75   \n",
      "2475               41231.0                      21.01             4.35   \n",
      "2476               43428.0                      25.19             7.35   \n",
      "2477              364759.0                      71.39             8.65   \n",
      "2478               82793.0                      26.16            10.40   \n",
      "\n",
      "      Spread Close-Open  \n",
      "0                  4.50  \n",
      "1                 -6.65  \n",
      "2                 -7.05  \n",
      "3                 -1.70  \n",
      "4                  1.55  \n",
      "...                 ...  \n",
      "2474             -15.20  \n",
      "2475               2.25  \n",
      "2476              -4.00  \n",
      "2477              -5.70  \n",
      "2478               0.95  \n",
      "\n",
      "[2479 rows x 13 columns]\n"
     ]
    }
   ],
   "source": [
    "#import csv\n",
    "#with open('innovators.csv', 'r') as file:\n",
    " #   reader = csv.reader(file)\n",
    "  #  for row in reader:\n",
    "   #     print(row)\n",
    " \n",
    "import pandas as pd\n",
    "df=pd.read_csv('airtel.csv')\n",
    "print(df)"
   ]
  },
  {
   "cell_type": "code",
   "execution_count": 2,
   "metadata": {
    "collapsed": true
   },
   "outputs": [
    {
     "data": {
      "text/plain": [
       "0         1-January-2021\n",
       "1       31-December-2020\n",
       "2       30-December-2020\n",
       "3       29-December-2020\n",
       "4       28-December-2020\n",
       "              ...       \n",
       "2474      7-January-2011\n",
       "2475      6-January-2011\n",
       "2476      5-January-2011\n",
       "2477      4-January-2011\n",
       "2478      3-January-2011\n",
       "Name: Date, Length: 2479, dtype: object"
      ]
     },
     "execution_count": 2,
     "metadata": {},
     "output_type": "execute_result"
    }
   ],
   "source": [
    "df['Date']"
   ]
  },
  {
   "cell_type": "code",
   "execution_count": 25,
   "metadata": {},
   "outputs": [],
   "source": [
    "list2=(((df['Close Price']-df['Open Price'])/df['Close Price'])*100)"
   ]
  },
  {
   "cell_type": "code",
   "execution_count": 4,
   "metadata": {},
   "outputs": [],
   "source": [
    "df['%gain']=list"
   ]
  },
  {
   "cell_type": "code",
   "execution_count": 5,
   "metadata": {
    "collapsed": true
   },
   "outputs": [
    {
     "data": {
      "text/html": [
       "<div>\n",
       "<style scoped>\n",
       "    .dataframe tbody tr th:only-of-type {\n",
       "        vertical-align: middle;\n",
       "    }\n",
       "\n",
       "    .dataframe tbody tr th {\n",
       "        vertical-align: top;\n",
       "    }\n",
       "\n",
       "    .dataframe thead th {\n",
       "        text-align: right;\n",
       "    }\n",
       "</style>\n",
       "<table border=\"1\" class=\"dataframe\">\n",
       "  <thead>\n",
       "    <tr style=\"text-align: right;\">\n",
       "      <th></th>\n",
       "      <th>Date</th>\n",
       "      <th>Open Price</th>\n",
       "      <th>High Price</th>\n",
       "      <th>Low Price</th>\n",
       "      <th>Close Price</th>\n",
       "      <th>WAP</th>\n",
       "      <th>No.of Shares</th>\n",
       "      <th>No. of Trades</th>\n",
       "      <th>Total Turnover (Rs.)</th>\n",
       "      <th>Deliverable Quantity</th>\n",
       "      <th>% Deli. Qty to Traded Qty</th>\n",
       "      <th>Spread High-Low</th>\n",
       "      <th>Spread Close-Open</th>\n",
       "      <th>%gain</th>\n",
       "    </tr>\n",
       "  </thead>\n",
       "  <tbody>\n",
       "    <tr>\n",
       "      <th>0</th>\n",
       "      <td>1-January-2021</td>\n",
       "      <td>510.60</td>\n",
       "      <td>516.25</td>\n",
       "      <td>508.25</td>\n",
       "      <td>515.10</td>\n",
       "      <td>511.767064</td>\n",
       "      <td>263094</td>\n",
       "      <td>4975</td>\n",
       "      <td>134642844.0</td>\n",
       "      <td>41497.0</td>\n",
       "      <td>15.77</td>\n",
       "      <td>8.00</td>\n",
       "      <td>4.50</td>\n",
       "      <td>0.873617</td>\n",
       "    </tr>\n",
       "    <tr>\n",
       "      <th>1</th>\n",
       "      <td>31-December-2020</td>\n",
       "      <td>515.95</td>\n",
       "      <td>518.45</td>\n",
       "      <td>506.60</td>\n",
       "      <td>509.30</td>\n",
       "      <td>511.222590</td>\n",
       "      <td>367218</td>\n",
       "      <td>8045</td>\n",
       "      <td>187730137.0</td>\n",
       "      <td>95310.0</td>\n",
       "      <td>25.95</td>\n",
       "      <td>11.85</td>\n",
       "      <td>-6.65</td>\n",
       "      <td>-1.305714</td>\n",
       "    </tr>\n",
       "    <tr>\n",
       "      <th>2</th>\n",
       "      <td>30-December-2020</td>\n",
       "      <td>523.00</td>\n",
       "      <td>523.00</td>\n",
       "      <td>513.35</td>\n",
       "      <td>515.95</td>\n",
       "      <td>516.111315</td>\n",
       "      <td>453614</td>\n",
       "      <td>7839</td>\n",
       "      <td>234115318.0</td>\n",
       "      <td>132052.0</td>\n",
       "      <td>29.11</td>\n",
       "      <td>9.65</td>\n",
       "      <td>-7.05</td>\n",
       "      <td>-1.366411</td>\n",
       "    </tr>\n",
       "    <tr>\n",
       "      <th>3</th>\n",
       "      <td>29-December-2020</td>\n",
       "      <td>521.95</td>\n",
       "      <td>525.00</td>\n",
       "      <td>515.10</td>\n",
       "      <td>520.25</td>\n",
       "      <td>520.661240</td>\n",
       "      <td>356338</td>\n",
       "      <td>4591</td>\n",
       "      <td>185531385.0</td>\n",
       "      <td>48296.0</td>\n",
       "      <td>13.55</td>\n",
       "      <td>9.90</td>\n",
       "      <td>-1.70</td>\n",
       "      <td>-0.326766</td>\n",
       "    </tr>\n",
       "    <tr>\n",
       "      <th>4</th>\n",
       "      <td>28-December-2020</td>\n",
       "      <td>520.00</td>\n",
       "      <td>526.95</td>\n",
       "      <td>516.90</td>\n",
       "      <td>521.55</td>\n",
       "      <td>522.491300</td>\n",
       "      <td>354822</td>\n",
       "      <td>5024</td>\n",
       "      <td>185391408.0</td>\n",
       "      <td>62156.0</td>\n",
       "      <td>17.52</td>\n",
       "      <td>10.05</td>\n",
       "      <td>1.55</td>\n",
       "      <td>0.297191</td>\n",
       "    </tr>\n",
       "    <tr>\n",
       "      <th>...</th>\n",
       "      <td>...</td>\n",
       "      <td>...</td>\n",
       "      <td>...</td>\n",
       "      <td>...</td>\n",
       "      <td>...</td>\n",
       "      <td>...</td>\n",
       "      <td>...</td>\n",
       "      <td>...</td>\n",
       "      <td>...</td>\n",
       "      <td>...</td>\n",
       "      <td>...</td>\n",
       "      <td>...</td>\n",
       "      <td>...</td>\n",
       "      <td>...</td>\n",
       "    </tr>\n",
       "    <tr>\n",
       "      <th>2474</th>\n",
       "      <td>7-January-2011</td>\n",
       "      <td>353.90</td>\n",
       "      <td>354.75</td>\n",
       "      <td>335.00</td>\n",
       "      <td>338.70</td>\n",
       "      <td>342.594042</td>\n",
       "      <td>358515</td>\n",
       "      <td>5778</td>\n",
       "      <td>122825103.0</td>\n",
       "      <td>73576.0</td>\n",
       "      <td>20.52</td>\n",
       "      <td>19.75</td>\n",
       "      <td>-15.20</td>\n",
       "      <td>-4.487747</td>\n",
       "    </tr>\n",
       "    <tr>\n",
       "      <th>2475</th>\n",
       "      <td>6-January-2011</td>\n",
       "      <td>351.00</td>\n",
       "      <td>355.35</td>\n",
       "      <td>351.00</td>\n",
       "      <td>353.25</td>\n",
       "      <td>353.230604</td>\n",
       "      <td>196241</td>\n",
       "      <td>2516</td>\n",
       "      <td>69318327.0</td>\n",
       "      <td>41231.0</td>\n",
       "      <td>21.01</td>\n",
       "      <td>4.35</td>\n",
       "      <td>2.25</td>\n",
       "      <td>0.636943</td>\n",
       "    </tr>\n",
       "    <tr>\n",
       "      <th>2476</th>\n",
       "      <td>5-January-2011</td>\n",
       "      <td>353.90</td>\n",
       "      <td>355.70</td>\n",
       "      <td>348.35</td>\n",
       "      <td>349.90</td>\n",
       "      <td>351.481252</td>\n",
       "      <td>172421</td>\n",
       "      <td>2552</td>\n",
       "      <td>60602749.0</td>\n",
       "      <td>43428.0</td>\n",
       "      <td>25.19</td>\n",
       "      <td>7.35</td>\n",
       "      <td>-4.00</td>\n",
       "      <td>-1.143184</td>\n",
       "    </tr>\n",
       "    <tr>\n",
       "      <th>2477</th>\n",
       "      <td>4-January-2011</td>\n",
       "      <td>361.00</td>\n",
       "      <td>361.75</td>\n",
       "      <td>353.10</td>\n",
       "      <td>355.30</td>\n",
       "      <td>359.347771</td>\n",
       "      <td>510966</td>\n",
       "      <td>3163</td>\n",
       "      <td>183614493.0</td>\n",
       "      <td>364759.0</td>\n",
       "      <td>71.39</td>\n",
       "      <td>8.65</td>\n",
       "      <td>-5.70</td>\n",
       "      <td>-1.604278</td>\n",
       "    </tr>\n",
       "    <tr>\n",
       "      <th>2478</th>\n",
       "      <td>3-January-2011</td>\n",
       "      <td>358.40</td>\n",
       "      <td>364.90</td>\n",
       "      <td>354.50</td>\n",
       "      <td>359.35</td>\n",
       "      <td>360.257123</td>\n",
       "      <td>316463</td>\n",
       "      <td>5263</td>\n",
       "      <td>114008050.0</td>\n",
       "      <td>82793.0</td>\n",
       "      <td>26.16</td>\n",
       "      <td>10.40</td>\n",
       "      <td>0.95</td>\n",
       "      <td>0.264366</td>\n",
       "    </tr>\n",
       "  </tbody>\n",
       "</table>\n",
       "<p>2479 rows × 14 columns</p>\n",
       "</div>"
      ],
      "text/plain": [
       "                  Date  Open Price  High Price  Low Price  Close Price  \\\n",
       "0       1-January-2021      510.60      516.25     508.25       515.10   \n",
       "1     31-December-2020      515.95      518.45     506.60       509.30   \n",
       "2     30-December-2020      523.00      523.00     513.35       515.95   \n",
       "3     29-December-2020      521.95      525.00     515.10       520.25   \n",
       "4     28-December-2020      520.00      526.95     516.90       521.55   \n",
       "...                ...         ...         ...        ...          ...   \n",
       "2474    7-January-2011      353.90      354.75     335.00       338.70   \n",
       "2475    6-January-2011      351.00      355.35     351.00       353.25   \n",
       "2476    5-January-2011      353.90      355.70     348.35       349.90   \n",
       "2477    4-January-2011      361.00      361.75     353.10       355.30   \n",
       "2478    3-January-2011      358.40      364.90     354.50       359.35   \n",
       "\n",
       "             WAP  No.of Shares  No. of Trades  Total Turnover (Rs.)  \\\n",
       "0     511.767064        263094           4975           134642844.0   \n",
       "1     511.222590        367218           8045           187730137.0   \n",
       "2     516.111315        453614           7839           234115318.0   \n",
       "3     520.661240        356338           4591           185531385.0   \n",
       "4     522.491300        354822           5024           185391408.0   \n",
       "...          ...           ...            ...                   ...   \n",
       "2474  342.594042        358515           5778           122825103.0   \n",
       "2475  353.230604        196241           2516            69318327.0   \n",
       "2476  351.481252        172421           2552            60602749.0   \n",
       "2477  359.347771        510966           3163           183614493.0   \n",
       "2478  360.257123        316463           5263           114008050.0   \n",
       "\n",
       "      Deliverable Quantity  % Deli. Qty to Traded Qty  Spread High-Low  \\\n",
       "0                  41497.0                      15.77             8.00   \n",
       "1                  95310.0                      25.95            11.85   \n",
       "2                 132052.0                      29.11             9.65   \n",
       "3                  48296.0                      13.55             9.90   \n",
       "4                  62156.0                      17.52            10.05   \n",
       "...                    ...                        ...              ...   \n",
       "2474               73576.0                      20.52            19.75   \n",
       "2475               41231.0                      21.01             4.35   \n",
       "2476               43428.0                      25.19             7.35   \n",
       "2477              364759.0                      71.39             8.65   \n",
       "2478               82793.0                      26.16            10.40   \n",
       "\n",
       "      Spread Close-Open     %gain  \n",
       "0                  4.50  0.873617  \n",
       "1                 -6.65 -1.305714  \n",
       "2                 -7.05 -1.366411  \n",
       "3                 -1.70 -0.326766  \n",
       "4                  1.55  0.297191  \n",
       "...                 ...       ...  \n",
       "2474             -15.20 -4.487747  \n",
       "2475               2.25  0.636943  \n",
       "2476              -4.00 -1.143184  \n",
       "2477              -5.70 -1.604278  \n",
       "2478               0.95  0.264366  \n",
       "\n",
       "[2479 rows x 14 columns]"
      ]
     },
     "execution_count": 5,
     "metadata": {},
     "output_type": "execute_result"
    }
   ],
   "source": [
    "df\n"
   ]
  },
  {
   "cell_type": "code",
   "execution_count": 6,
   "metadata": {},
   "outputs": [],
   "source": [
    "# df.to_csv('test.csv')\n",
    "col=df['%gain']"
   ]
  },
  {
   "cell_type": "code",
   "execution_count": 7,
   "metadata": {},
   "outputs": [
    {
     "data": {
      "text/plain": [
       "12.585997571833262"
      ]
     },
     "execution_count": 7,
     "metadata": {},
     "output_type": "execute_result"
    }
   ],
   "source": [
    "maxval=col.max()\n",
    "maxval"
   ]
  },
  {
   "cell_type": "code",
   "execution_count": 8,
   "metadata": {},
   "outputs": [
    {
     "data": {
      "text/plain": [
       "201"
      ]
     },
     "execution_count": 8,
     "metadata": {},
     "output_type": "execute_result"
    }
   ],
   "source": [
    "col.idxmax()"
   ]
  },
  {
   "cell_type": "code",
   "execution_count": 9,
   "metadata": {},
   "outputs": [],
   "source": [
    "#1. covarience???\n",
    "#2. max and min  gain and news of day and 2nd 3rd 4th 5th max and min\n",
    "#3.for mo, tue,.. find max and avg % gains and news of day\n",
    "#4.\n",
    "#5. based on 2  and news\n"
   ]
  },
  {
   "cell_type": "code",
   "execution_count": 10,
   "metadata": {},
   "outputs": [
    {
     "data": {
      "text/plain": [
       "'11-March-2020'"
      ]
     },
     "execution_count": 10,
     "metadata": {},
     "output_type": "execute_result"
    }
   ],
   "source": [
    "df['Date'][203]"
   ]
  },
  {
   "cell_type": "code",
   "execution_count": 14,
   "metadata": {},
   "outputs": [],
   "source": [
    "max2=col.nlargest(5)"
   ]
  },
  {
   "cell_type": "code",
   "execution_count": 15,
   "metadata": {},
   "outputs": [
    {
     "data": {
      "text/plain": [
       "201    12.585998\n",
       "284     9.867752\n",
       "905     9.578750\n",
       "543     9.234412\n",
       "192     9.205021\n",
       "Name: %gain, dtype: float64"
      ]
     },
     "execution_count": 15,
     "metadata": {},
     "output_type": "execute_result"
    }
   ],
   "source": [
    "max2"
   ]
  },
  {
   "cell_type": "markdown",
   "metadata": {},
   "source": [
    "max2[0]"
   ]
  },
  {
   "cell_type": "code",
   "execution_count": 16,
   "metadata": {
    "collapsed": true
   },
   "outputs": [
    {
     "ename": "KeyError",
     "evalue": "0",
     "output_type": "error",
     "traceback": [
      "\u001b[1;31m---------------------------------------------------------------------------\u001b[0m",
      "\u001b[1;31mKeyError\u001b[0m                                  Traceback (most recent call last)",
      "\u001b[1;32m~\\anaconda3\\lib\\site-packages\\pandas\\core\\indexes\\base.py\u001b[0m in \u001b[0;36mget_loc\u001b[1;34m(self, key, method, tolerance)\u001b[0m\n\u001b[0;32m   2894\u001b[0m             \u001b[1;32mtry\u001b[0m\u001b[1;33m:\u001b[0m\u001b[1;33m\u001b[0m\u001b[1;33m\u001b[0m\u001b[0m\n\u001b[1;32m-> 2895\u001b[1;33m                 \u001b[1;32mreturn\u001b[0m \u001b[0mself\u001b[0m\u001b[1;33m.\u001b[0m\u001b[0m_engine\u001b[0m\u001b[1;33m.\u001b[0m\u001b[0mget_loc\u001b[0m\u001b[1;33m(\u001b[0m\u001b[0mcasted_key\u001b[0m\u001b[1;33m)\u001b[0m\u001b[1;33m\u001b[0m\u001b[1;33m\u001b[0m\u001b[0m\n\u001b[0m\u001b[0;32m   2896\u001b[0m             \u001b[1;32mexcept\u001b[0m \u001b[0mKeyError\u001b[0m \u001b[1;32mas\u001b[0m \u001b[0merr\u001b[0m\u001b[1;33m:\u001b[0m\u001b[1;33m\u001b[0m\u001b[1;33m\u001b[0m\u001b[0m\n",
      "\u001b[1;32mpandas\\_libs\\index.pyx\u001b[0m in \u001b[0;36mpandas._libs.index.IndexEngine.get_loc\u001b[1;34m()\u001b[0m\n",
      "\u001b[1;32mpandas\\_libs\\index.pyx\u001b[0m in \u001b[0;36mpandas._libs.index.IndexEngine.get_loc\u001b[1;34m()\u001b[0m\n",
      "\u001b[1;32mpandas\\_libs\\hashtable_class_helper.pxi\u001b[0m in \u001b[0;36mpandas._libs.hashtable.Int64HashTable.get_item\u001b[1;34m()\u001b[0m\n",
      "\u001b[1;32mpandas\\_libs\\hashtable_class_helper.pxi\u001b[0m in \u001b[0;36mpandas._libs.hashtable.Int64HashTable.get_item\u001b[1;34m()\u001b[0m\n",
      "\u001b[1;31mKeyError\u001b[0m: 0",
      "\nThe above exception was the direct cause of the following exception:\n",
      "\u001b[1;31mKeyError\u001b[0m                                  Traceback (most recent call last)",
      "\u001b[1;32m<ipython-input-16-64da5c800561>\u001b[0m in \u001b[0;36m<module>\u001b[1;34m\u001b[0m\n\u001b[1;32m----> 1\u001b[1;33m \u001b[0mmax2\u001b[0m\u001b[1;33m[\u001b[0m\u001b[1;36m0\u001b[0m\u001b[1;33m]\u001b[0m\u001b[1;33m\u001b[0m\u001b[1;33m\u001b[0m\u001b[0m\n\u001b[0m",
      "\u001b[1;32m~\\anaconda3\\lib\\site-packages\\pandas\\core\\series.py\u001b[0m in \u001b[0;36m__getitem__\u001b[1;34m(self, key)\u001b[0m\n\u001b[0;32m    880\u001b[0m \u001b[1;33m\u001b[0m\u001b[0m\n\u001b[0;32m    881\u001b[0m         \u001b[1;32melif\u001b[0m \u001b[0mkey_is_scalar\u001b[0m\u001b[1;33m:\u001b[0m\u001b[1;33m\u001b[0m\u001b[1;33m\u001b[0m\u001b[0m\n\u001b[1;32m--> 882\u001b[1;33m             \u001b[1;32mreturn\u001b[0m \u001b[0mself\u001b[0m\u001b[1;33m.\u001b[0m\u001b[0m_get_value\u001b[0m\u001b[1;33m(\u001b[0m\u001b[0mkey\u001b[0m\u001b[1;33m)\u001b[0m\u001b[1;33m\u001b[0m\u001b[1;33m\u001b[0m\u001b[0m\n\u001b[0m\u001b[0;32m    883\u001b[0m \u001b[1;33m\u001b[0m\u001b[0m\n\u001b[0;32m    884\u001b[0m         \u001b[1;32mif\u001b[0m \u001b[0mis_hashable\u001b[0m\u001b[1;33m(\u001b[0m\u001b[0mkey\u001b[0m\u001b[1;33m)\u001b[0m\u001b[1;33m:\u001b[0m\u001b[1;33m\u001b[0m\u001b[1;33m\u001b[0m\u001b[0m\n",
      "\u001b[1;32m~\\anaconda3\\lib\\site-packages\\pandas\\core\\series.py\u001b[0m in \u001b[0;36m_get_value\u001b[1;34m(self, label, takeable)\u001b[0m\n\u001b[0;32m    987\u001b[0m \u001b[1;33m\u001b[0m\u001b[0m\n\u001b[0;32m    988\u001b[0m         \u001b[1;31m# Similar to Index.get_value, but we do not fall back to positional\u001b[0m\u001b[1;33m\u001b[0m\u001b[1;33m\u001b[0m\u001b[1;33m\u001b[0m\u001b[0m\n\u001b[1;32m--> 989\u001b[1;33m         \u001b[0mloc\u001b[0m \u001b[1;33m=\u001b[0m \u001b[0mself\u001b[0m\u001b[1;33m.\u001b[0m\u001b[0mindex\u001b[0m\u001b[1;33m.\u001b[0m\u001b[0mget_loc\u001b[0m\u001b[1;33m(\u001b[0m\u001b[0mlabel\u001b[0m\u001b[1;33m)\u001b[0m\u001b[1;33m\u001b[0m\u001b[1;33m\u001b[0m\u001b[0m\n\u001b[0m\u001b[0;32m    990\u001b[0m         \u001b[1;32mreturn\u001b[0m \u001b[0mself\u001b[0m\u001b[1;33m.\u001b[0m\u001b[0mindex\u001b[0m\u001b[1;33m.\u001b[0m\u001b[0m_get_values_for_loc\u001b[0m\u001b[1;33m(\u001b[0m\u001b[0mself\u001b[0m\u001b[1;33m,\u001b[0m \u001b[0mloc\u001b[0m\u001b[1;33m,\u001b[0m \u001b[0mlabel\u001b[0m\u001b[1;33m)\u001b[0m\u001b[1;33m\u001b[0m\u001b[1;33m\u001b[0m\u001b[0m\n\u001b[0;32m    991\u001b[0m \u001b[1;33m\u001b[0m\u001b[0m\n",
      "\u001b[1;32m~\\anaconda3\\lib\\site-packages\\pandas\\core\\indexes\\base.py\u001b[0m in \u001b[0;36mget_loc\u001b[1;34m(self, key, method, tolerance)\u001b[0m\n\u001b[0;32m   2895\u001b[0m                 \u001b[1;32mreturn\u001b[0m \u001b[0mself\u001b[0m\u001b[1;33m.\u001b[0m\u001b[0m_engine\u001b[0m\u001b[1;33m.\u001b[0m\u001b[0mget_loc\u001b[0m\u001b[1;33m(\u001b[0m\u001b[0mcasted_key\u001b[0m\u001b[1;33m)\u001b[0m\u001b[1;33m\u001b[0m\u001b[1;33m\u001b[0m\u001b[0m\n\u001b[0;32m   2896\u001b[0m             \u001b[1;32mexcept\u001b[0m \u001b[0mKeyError\u001b[0m \u001b[1;32mas\u001b[0m \u001b[0merr\u001b[0m\u001b[1;33m:\u001b[0m\u001b[1;33m\u001b[0m\u001b[1;33m\u001b[0m\u001b[0m\n\u001b[1;32m-> 2897\u001b[1;33m                 \u001b[1;32mraise\u001b[0m \u001b[0mKeyError\u001b[0m\u001b[1;33m(\u001b[0m\u001b[0mkey\u001b[0m\u001b[1;33m)\u001b[0m \u001b[1;32mfrom\u001b[0m \u001b[0merr\u001b[0m\u001b[1;33m\u001b[0m\u001b[1;33m\u001b[0m\u001b[0m\n\u001b[0m\u001b[0;32m   2898\u001b[0m \u001b[1;33m\u001b[0m\u001b[0m\n\u001b[0;32m   2899\u001b[0m         \u001b[1;32mif\u001b[0m \u001b[0mtolerance\u001b[0m \u001b[1;32mis\u001b[0m \u001b[1;32mnot\u001b[0m \u001b[1;32mNone\u001b[0m\u001b[1;33m:\u001b[0m\u001b[1;33m\u001b[0m\u001b[1;33m\u001b[0m\u001b[0m\n",
      "\u001b[1;31mKeyError\u001b[0m: 0"
     ]
    }
   ],
   "source": [
    "max2[0]"
   ]
  },
  {
   "cell_type": "code",
   "execution_count": 38,
   "metadata": {},
   "outputs": [],
   "source": [
    "df1=pd.read_csv('bse_data.csv')\n",
    "#df.to_csv('test1.csv')"
   ]
  },
  {
   "cell_type": "code",
   "execution_count": 39,
   "metadata": {
    "collapsed": true
   },
   "outputs": [
    {
     "data": {
      "text/html": [
       "<div>\n",
       "<style scoped>\n",
       "    .dataframe tbody tr th:only-of-type {\n",
       "        vertical-align: middle;\n",
       "    }\n",
       "\n",
       "    .dataframe tbody tr th {\n",
       "        vertical-align: top;\n",
       "    }\n",
       "\n",
       "    .dataframe thead th {\n",
       "        text-align: right;\n",
       "    }\n",
       "</style>\n",
       "<table border=\"1\" class=\"dataframe\">\n",
       "  <thead>\n",
       "    <tr style=\"text-align: right;\">\n",
       "      <th></th>\n",
       "      <th>Date</th>\n",
       "      <th>Open Price</th>\n",
       "      <th>High Price</th>\n",
       "      <th>Low Price</th>\n",
       "      <th>Close Price</th>\n",
       "    </tr>\n",
       "  </thead>\n",
       "  <tbody>\n",
       "    <tr>\n",
       "      <th>0</th>\n",
       "      <td>3-January-2011</td>\n",
       "      <td>20621.61</td>\n",
       "      <td>20664.80</td>\n",
       "      <td>20531.00</td>\n",
       "      <td>20561.05</td>\n",
       "    </tr>\n",
       "    <tr>\n",
       "      <th>1</th>\n",
       "      <td>4-January-2011</td>\n",
       "      <td>20617.38</td>\n",
       "      <td>20651.21</td>\n",
       "      <td>20449.01</td>\n",
       "      <td>20498.72</td>\n",
       "    </tr>\n",
       "    <tr>\n",
       "      <th>2</th>\n",
       "      <td>5-January-2011</td>\n",
       "      <td>20509.95</td>\n",
       "      <td>20509.95</td>\n",
       "      <td>20243.95</td>\n",
       "      <td>20301.10</td>\n",
       "    </tr>\n",
       "    <tr>\n",
       "      <th>3</th>\n",
       "      <td>6-January-2011</td>\n",
       "      <td>20395.50</td>\n",
       "      <td>20425.85</td>\n",
       "      <td>20107.17</td>\n",
       "      <td>20184.74</td>\n",
       "    </tr>\n",
       "    <tr>\n",
       "      <th>4</th>\n",
       "      <td>7-January-2011</td>\n",
       "      <td>20163.85</td>\n",
       "      <td>20210.62</td>\n",
       "      <td>19629.22</td>\n",
       "      <td>19691.81</td>\n",
       "    </tr>\n",
       "    <tr>\n",
       "      <th>...</th>\n",
       "      <td>...</td>\n",
       "      <td>...</td>\n",
       "      <td>...</td>\n",
       "      <td>...</td>\n",
       "      <td>...</td>\n",
       "    </tr>\n",
       "    <tr>\n",
       "      <th>2494</th>\n",
       "      <td>25-January-2021</td>\n",
       "      <td>49253.68</td>\n",
       "      <td>49263.15</td>\n",
       "      <td>48274.92</td>\n",
       "      <td>48347.59</td>\n",
       "    </tr>\n",
       "    <tr>\n",
       "      <th>2495</th>\n",
       "      <td>27-January-2021</td>\n",
       "      <td>48385.28</td>\n",
       "      <td>48387.25</td>\n",
       "      <td>47269.60</td>\n",
       "      <td>47409.93</td>\n",
       "    </tr>\n",
       "    <tr>\n",
       "      <th>2496</th>\n",
       "      <td>28-January-2021</td>\n",
       "      <td>46834.57</td>\n",
       "      <td>47172.02</td>\n",
       "      <td>46518.48</td>\n",
       "      <td>46874.36</td>\n",
       "    </tr>\n",
       "    <tr>\n",
       "      <th>2497</th>\n",
       "      <td>29-January-2021</td>\n",
       "      <td>47423.47</td>\n",
       "      <td>47423.66</td>\n",
       "      <td>46160.46</td>\n",
       "      <td>46285.77</td>\n",
       "    </tr>\n",
       "    <tr>\n",
       "      <th>2498</th>\n",
       "      <td>1-February-2021</td>\n",
       "      <td>46617.95</td>\n",
       "      <td>48764.40</td>\n",
       "      <td>46433.65</td>\n",
       "      <td>48600.61</td>\n",
       "    </tr>\n",
       "  </tbody>\n",
       "</table>\n",
       "<p>2499 rows × 5 columns</p>\n",
       "</div>"
      ],
      "text/plain": [
       "                 Date  Open Price  High Price  Low Price  Close Price\n",
       "0      3-January-2011    20621.61    20664.80   20531.00     20561.05\n",
       "1      4-January-2011    20617.38    20651.21   20449.01     20498.72\n",
       "2      5-January-2011    20509.95    20509.95   20243.95     20301.10\n",
       "3      6-January-2011    20395.50    20425.85   20107.17     20184.74\n",
       "4      7-January-2011    20163.85    20210.62   19629.22     19691.81\n",
       "...               ...         ...         ...        ...          ...\n",
       "2494  25-January-2021    49253.68    49263.15   48274.92     48347.59\n",
       "2495  27-January-2021    48385.28    48387.25   47269.60     47409.93\n",
       "2496  28-January-2021    46834.57    47172.02   46518.48     46874.36\n",
       "2497  29-January-2021    47423.47    47423.66   46160.46     46285.77\n",
       "2498  1-February-2021    46617.95    48764.40   46433.65     48600.61\n",
       "\n",
       "[2499 rows x 5 columns]"
      ]
     },
     "execution_count": 39,
     "metadata": {},
     "output_type": "execute_result"
    }
   ],
   "source": [
    "df1"
   ]
  },
  {
   "cell_type": "code",
   "execution_count": 41,
   "metadata": {},
   "outputs": [],
   "source": [
    "list1=(((df1['Close Price']-df1['Open Price'])/df1['Close Price'])*100)"
   ]
  },
  {
   "cell_type": "raw",
   "metadata": {},
   "source": [
    "correlation=list.corr(list1)"
   ]
  },
  {
   "cell_type": "code",
   "execution_count": 42,
   "metadata": {
    "collapsed": true
   },
   "outputs": [
    {
     "ename": "AttributeError",
     "evalue": "'Series' object has no attribute 'corrwith'",
     "output_type": "error",
     "traceback": [
      "\u001b[1;31m---------------------------------------------------------------------------\u001b[0m",
      "\u001b[1;31mAttributeError\u001b[0m                            Traceback (most recent call last)",
      "\u001b[1;32m<ipython-input-42-9b3bd1df9ef6>\u001b[0m in \u001b[0;36m<module>\u001b[1;34m\u001b[0m\n\u001b[1;32m----> 1\u001b[1;33m \u001b[0mcorrelation\u001b[0m\u001b[1;33m=\u001b[0m\u001b[0mlist2\u001b[0m\u001b[1;33m.\u001b[0m\u001b[0mcorrwith\u001b[0m\u001b[1;33m(\u001b[0m\u001b[0mlist1\u001b[0m\u001b[1;33m)\u001b[0m\u001b[1;33m\u001b[0m\u001b[1;33m\u001b[0m\u001b[0m\n\u001b[0m",
      "\u001b[1;32m~\\anaconda3\\lib\\site-packages\\pandas\\core\\generic.py\u001b[0m in \u001b[0;36m__getattr__\u001b[1;34m(self, name)\u001b[0m\n\u001b[0;32m   5137\u001b[0m             \u001b[1;32mif\u001b[0m \u001b[0mself\u001b[0m\u001b[1;33m.\u001b[0m\u001b[0m_info_axis\u001b[0m\u001b[1;33m.\u001b[0m\u001b[0m_can_hold_identifiers_and_holds_name\u001b[0m\u001b[1;33m(\u001b[0m\u001b[0mname\u001b[0m\u001b[1;33m)\u001b[0m\u001b[1;33m:\u001b[0m\u001b[1;33m\u001b[0m\u001b[1;33m\u001b[0m\u001b[0m\n\u001b[0;32m   5138\u001b[0m                 \u001b[1;32mreturn\u001b[0m \u001b[0mself\u001b[0m\u001b[1;33m[\u001b[0m\u001b[0mname\u001b[0m\u001b[1;33m]\u001b[0m\u001b[1;33m\u001b[0m\u001b[1;33m\u001b[0m\u001b[0m\n\u001b[1;32m-> 5139\u001b[1;33m             \u001b[1;32mreturn\u001b[0m \u001b[0mobject\u001b[0m\u001b[1;33m.\u001b[0m\u001b[0m__getattribute__\u001b[0m\u001b[1;33m(\u001b[0m\u001b[0mself\u001b[0m\u001b[1;33m,\u001b[0m \u001b[0mname\u001b[0m\u001b[1;33m)\u001b[0m\u001b[1;33m\u001b[0m\u001b[1;33m\u001b[0m\u001b[0m\n\u001b[0m\u001b[0;32m   5140\u001b[0m \u001b[1;33m\u001b[0m\u001b[0m\n\u001b[0;32m   5141\u001b[0m     \u001b[1;32mdef\u001b[0m \u001b[0m__setattr__\u001b[0m\u001b[1;33m(\u001b[0m\u001b[0mself\u001b[0m\u001b[1;33m,\u001b[0m \u001b[0mname\u001b[0m\u001b[1;33m:\u001b[0m \u001b[0mstr\u001b[0m\u001b[1;33m,\u001b[0m \u001b[0mvalue\u001b[0m\u001b[1;33m)\u001b[0m \u001b[1;33m->\u001b[0m \u001b[1;32mNone\u001b[0m\u001b[1;33m:\u001b[0m\u001b[1;33m\u001b[0m\u001b[1;33m\u001b[0m\u001b[0m\n",
      "\u001b[1;31mAttributeError\u001b[0m: 'Series' object has no attribute 'corrwith'"
     ]
    }
   ],
   "source": [
    "correlation=list2.corrwith(list1)"
   ]
  },
  {
   "cell_type": "code",
   "execution_count": 27,
   "metadata": {},
   "outputs": [
    {
     "data": {
      "text/plain": [
       "nan"
      ]
     },
     "execution_count": 27,
     "metadata": {},
     "output_type": "execute_result"
    }
   ],
   "source": [
    "correlation"
   ]
  },
  {
   "cell_type": "code",
   "execution_count": 43,
   "metadata": {},
   "outputs": [],
   "source": [
    "df1['%gain']=list1"
   ]
  },
  {
   "cell_type": "code",
   "execution_count": 44,
   "metadata": {},
   "outputs": [
    {
     "data": {
      "text/plain": [
       "0.018348730097304405"
      ]
     },
     "execution_count": 44,
     "metadata": {},
     "output_type": "execute_result"
    }
   ],
   "source": [
    "df['%gain'].corr(df1['%gain'])"
   ]
  },
  {
   "cell_type": "code",
   "execution_count": 45,
   "metadata": {
    "collapsed": true
   },
   "outputs": [
    {
     "data": {
      "text/html": [
       "<div>\n",
       "<style scoped>\n",
       "    .dataframe tbody tr th:only-of-type {\n",
       "        vertical-align: middle;\n",
       "    }\n",
       "\n",
       "    .dataframe tbody tr th {\n",
       "        vertical-align: top;\n",
       "    }\n",
       "\n",
       "    .dataframe thead th {\n",
       "        text-align: right;\n",
       "    }\n",
       "</style>\n",
       "<table border=\"1\" class=\"dataframe\">\n",
       "  <thead>\n",
       "    <tr style=\"text-align: right;\">\n",
       "      <th></th>\n",
       "      <th>Date</th>\n",
       "      <th>Open Price</th>\n",
       "      <th>High Price</th>\n",
       "      <th>Low Price</th>\n",
       "      <th>Close Price</th>\n",
       "      <th>%gain</th>\n",
       "    </tr>\n",
       "  </thead>\n",
       "  <tbody>\n",
       "    <tr>\n",
       "      <th>0</th>\n",
       "      <td>3-January-2011</td>\n",
       "      <td>20621.61</td>\n",
       "      <td>20664.80</td>\n",
       "      <td>20531.00</td>\n",
       "      <td>20561.05</td>\n",
       "      <td>-0.294537</td>\n",
       "    </tr>\n",
       "    <tr>\n",
       "      <th>1</th>\n",
       "      <td>4-January-2011</td>\n",
       "      <td>20617.38</td>\n",
       "      <td>20651.21</td>\n",
       "      <td>20449.01</td>\n",
       "      <td>20498.72</td>\n",
       "      <td>-0.578865</td>\n",
       "    </tr>\n",
       "    <tr>\n",
       "      <th>2</th>\n",
       "      <td>5-January-2011</td>\n",
       "      <td>20509.95</td>\n",
       "      <td>20509.95</td>\n",
       "      <td>20243.95</td>\n",
       "      <td>20301.10</td>\n",
       "      <td>-1.028762</td>\n",
       "    </tr>\n",
       "    <tr>\n",
       "      <th>3</th>\n",
       "      <td>6-January-2011</td>\n",
       "      <td>20395.50</td>\n",
       "      <td>20425.85</td>\n",
       "      <td>20107.17</td>\n",
       "      <td>20184.74</td>\n",
       "      <td>-1.044155</td>\n",
       "    </tr>\n",
       "    <tr>\n",
       "      <th>4</th>\n",
       "      <td>7-January-2011</td>\n",
       "      <td>20163.85</td>\n",
       "      <td>20210.62</td>\n",
       "      <td>19629.22</td>\n",
       "      <td>19691.81</td>\n",
       "      <td>-2.397139</td>\n",
       "    </tr>\n",
       "    <tr>\n",
       "      <th>...</th>\n",
       "      <td>...</td>\n",
       "      <td>...</td>\n",
       "      <td>...</td>\n",
       "      <td>...</td>\n",
       "      <td>...</td>\n",
       "      <td>...</td>\n",
       "    </tr>\n",
       "    <tr>\n",
       "      <th>2494</th>\n",
       "      <td>25-January-2021</td>\n",
       "      <td>49253.68</td>\n",
       "      <td>49263.15</td>\n",
       "      <td>48274.92</td>\n",
       "      <td>48347.59</td>\n",
       "      <td>-1.874116</td>\n",
       "    </tr>\n",
       "    <tr>\n",
       "      <th>2495</th>\n",
       "      <td>27-January-2021</td>\n",
       "      <td>48385.28</td>\n",
       "      <td>48387.25</td>\n",
       "      <td>47269.60</td>\n",
       "      <td>47409.93</td>\n",
       "      <td>-2.057269</td>\n",
       "    </tr>\n",
       "    <tr>\n",
       "      <th>2496</th>\n",
       "      <td>28-January-2021</td>\n",
       "      <td>46834.57</td>\n",
       "      <td>47172.02</td>\n",
       "      <td>46518.48</td>\n",
       "      <td>46874.36</td>\n",
       "      <td>0.084886</td>\n",
       "    </tr>\n",
       "    <tr>\n",
       "      <th>2497</th>\n",
       "      <td>29-January-2021</td>\n",
       "      <td>47423.47</td>\n",
       "      <td>47423.66</td>\n",
       "      <td>46160.46</td>\n",
       "      <td>46285.77</td>\n",
       "      <td>-2.457991</td>\n",
       "    </tr>\n",
       "    <tr>\n",
       "      <th>2498</th>\n",
       "      <td>1-February-2021</td>\n",
       "      <td>46617.95</td>\n",
       "      <td>48764.40</td>\n",
       "      <td>46433.65</td>\n",
       "      <td>48600.61</td>\n",
       "      <td>4.079496</td>\n",
       "    </tr>\n",
       "  </tbody>\n",
       "</table>\n",
       "<p>2499 rows × 6 columns</p>\n",
       "</div>"
      ],
      "text/plain": [
       "                 Date  Open Price  High Price  Low Price  Close Price  \\\n",
       "0      3-January-2011    20621.61    20664.80   20531.00     20561.05   \n",
       "1      4-January-2011    20617.38    20651.21   20449.01     20498.72   \n",
       "2      5-January-2011    20509.95    20509.95   20243.95     20301.10   \n",
       "3      6-January-2011    20395.50    20425.85   20107.17     20184.74   \n",
       "4      7-January-2011    20163.85    20210.62   19629.22     19691.81   \n",
       "...               ...         ...         ...        ...          ...   \n",
       "2494  25-January-2021    49253.68    49263.15   48274.92     48347.59   \n",
       "2495  27-January-2021    48385.28    48387.25   47269.60     47409.93   \n",
       "2496  28-January-2021    46834.57    47172.02   46518.48     46874.36   \n",
       "2497  29-January-2021    47423.47    47423.66   46160.46     46285.77   \n",
       "2498  1-February-2021    46617.95    48764.40   46433.65     48600.61   \n",
       "\n",
       "         %gain  \n",
       "0    -0.294537  \n",
       "1    -0.578865  \n",
       "2    -1.028762  \n",
       "3    -1.044155  \n",
       "4    -2.397139  \n",
       "...        ...  \n",
       "2494 -1.874116  \n",
       "2495 -2.057269  \n",
       "2496  0.084886  \n",
       "2497 -2.457991  \n",
       "2498  4.079496  \n",
       "\n",
       "[2499 rows x 6 columns]"
      ]
     },
     "execution_count": 45,
     "metadata": {},
     "output_type": "execute_result"
    }
   ],
   "source": [
    "df1"
   ]
  },
  {
   "cell_type": "code",
   "execution_count": 46,
   "metadata": {
    "collapsed": true
   },
   "outputs": [
    {
     "ename": "KeyError",
     "evalue": "'Open'",
     "output_type": "error",
     "traceback": [
      "\u001b[1;31m---------------------------------------------------------------------------\u001b[0m",
      "\u001b[1;31mKeyError\u001b[0m                                  Traceback (most recent call last)",
      "\u001b[1;32m~\\anaconda3\\lib\\site-packages\\pandas\\core\\indexes\\base.py\u001b[0m in \u001b[0;36mget_loc\u001b[1;34m(self, key, method, tolerance)\u001b[0m\n\u001b[0;32m   2894\u001b[0m             \u001b[1;32mtry\u001b[0m\u001b[1;33m:\u001b[0m\u001b[1;33m\u001b[0m\u001b[1;33m\u001b[0m\u001b[0m\n\u001b[1;32m-> 2895\u001b[1;33m                 \u001b[1;32mreturn\u001b[0m \u001b[0mself\u001b[0m\u001b[1;33m.\u001b[0m\u001b[0m_engine\u001b[0m\u001b[1;33m.\u001b[0m\u001b[0mget_loc\u001b[0m\u001b[1;33m(\u001b[0m\u001b[0mcasted_key\u001b[0m\u001b[1;33m)\u001b[0m\u001b[1;33m\u001b[0m\u001b[1;33m\u001b[0m\u001b[0m\n\u001b[0m\u001b[0;32m   2896\u001b[0m             \u001b[1;32mexcept\u001b[0m \u001b[0mKeyError\u001b[0m \u001b[1;32mas\u001b[0m \u001b[0merr\u001b[0m\u001b[1;33m:\u001b[0m\u001b[1;33m\u001b[0m\u001b[1;33m\u001b[0m\u001b[0m\n",
      "\u001b[1;32mpandas\\_libs\\index.pyx\u001b[0m in \u001b[0;36mpandas._libs.index.IndexEngine.get_loc\u001b[1;34m()\u001b[0m\n",
      "\u001b[1;32mpandas\\_libs\\index.pyx\u001b[0m in \u001b[0;36mpandas._libs.index.IndexEngine.get_loc\u001b[1;34m()\u001b[0m\n",
      "\u001b[1;32mpandas\\_libs\\hashtable_class_helper.pxi\u001b[0m in \u001b[0;36mpandas._libs.hashtable.PyObjectHashTable.get_item\u001b[1;34m()\u001b[0m\n",
      "\u001b[1;32mpandas\\_libs\\hashtable_class_helper.pxi\u001b[0m in \u001b[0;36mpandas._libs.hashtable.PyObjectHashTable.get_item\u001b[1;34m()\u001b[0m\n",
      "\u001b[1;31mKeyError\u001b[0m: 'Open'",
      "\nThe above exception was the direct cause of the following exception:\n",
      "\u001b[1;31mKeyError\u001b[0m                                  Traceback (most recent call last)",
      "\u001b[1;32m<ipython-input-46-ed9af8a47f91>\u001b[0m in \u001b[0;36m<module>\u001b[1;34m\u001b[0m\n\u001b[1;32m----> 1\u001b[1;33m \u001b[0mdf1\u001b[0m\u001b[1;33m[\u001b[0m\u001b[1;34m'Open'\u001b[0m\u001b[1;33m]\u001b[0m\u001b[1;33m\u001b[0m\u001b[1;33m\u001b[0m\u001b[0m\n\u001b[0m",
      "\u001b[1;32m~\\anaconda3\\lib\\site-packages\\pandas\\core\\frame.py\u001b[0m in \u001b[0;36m__getitem__\u001b[1;34m(self, key)\u001b[0m\n\u001b[0;32m   2900\u001b[0m             \u001b[1;32mif\u001b[0m \u001b[0mself\u001b[0m\u001b[1;33m.\u001b[0m\u001b[0mcolumns\u001b[0m\u001b[1;33m.\u001b[0m\u001b[0mnlevels\u001b[0m \u001b[1;33m>\u001b[0m \u001b[1;36m1\u001b[0m\u001b[1;33m:\u001b[0m\u001b[1;33m\u001b[0m\u001b[1;33m\u001b[0m\u001b[0m\n\u001b[0;32m   2901\u001b[0m                 \u001b[1;32mreturn\u001b[0m \u001b[0mself\u001b[0m\u001b[1;33m.\u001b[0m\u001b[0m_getitem_multilevel\u001b[0m\u001b[1;33m(\u001b[0m\u001b[0mkey\u001b[0m\u001b[1;33m)\u001b[0m\u001b[1;33m\u001b[0m\u001b[1;33m\u001b[0m\u001b[0m\n\u001b[1;32m-> 2902\u001b[1;33m             \u001b[0mindexer\u001b[0m \u001b[1;33m=\u001b[0m \u001b[0mself\u001b[0m\u001b[1;33m.\u001b[0m\u001b[0mcolumns\u001b[0m\u001b[1;33m.\u001b[0m\u001b[0mget_loc\u001b[0m\u001b[1;33m(\u001b[0m\u001b[0mkey\u001b[0m\u001b[1;33m)\u001b[0m\u001b[1;33m\u001b[0m\u001b[1;33m\u001b[0m\u001b[0m\n\u001b[0m\u001b[0;32m   2903\u001b[0m             \u001b[1;32mif\u001b[0m \u001b[0mis_integer\u001b[0m\u001b[1;33m(\u001b[0m\u001b[0mindexer\u001b[0m\u001b[1;33m)\u001b[0m\u001b[1;33m:\u001b[0m\u001b[1;33m\u001b[0m\u001b[1;33m\u001b[0m\u001b[0m\n\u001b[0;32m   2904\u001b[0m                 \u001b[0mindexer\u001b[0m \u001b[1;33m=\u001b[0m \u001b[1;33m[\u001b[0m\u001b[0mindexer\u001b[0m\u001b[1;33m]\u001b[0m\u001b[1;33m\u001b[0m\u001b[1;33m\u001b[0m\u001b[0m\n",
      "\u001b[1;32m~\\anaconda3\\lib\\site-packages\\pandas\\core\\indexes\\base.py\u001b[0m in \u001b[0;36mget_loc\u001b[1;34m(self, key, method, tolerance)\u001b[0m\n\u001b[0;32m   2895\u001b[0m                 \u001b[1;32mreturn\u001b[0m \u001b[0mself\u001b[0m\u001b[1;33m.\u001b[0m\u001b[0m_engine\u001b[0m\u001b[1;33m.\u001b[0m\u001b[0mget_loc\u001b[0m\u001b[1;33m(\u001b[0m\u001b[0mcasted_key\u001b[0m\u001b[1;33m)\u001b[0m\u001b[1;33m\u001b[0m\u001b[1;33m\u001b[0m\u001b[0m\n\u001b[0;32m   2896\u001b[0m             \u001b[1;32mexcept\u001b[0m \u001b[0mKeyError\u001b[0m \u001b[1;32mas\u001b[0m \u001b[0merr\u001b[0m\u001b[1;33m:\u001b[0m\u001b[1;33m\u001b[0m\u001b[1;33m\u001b[0m\u001b[0m\n\u001b[1;32m-> 2897\u001b[1;33m                 \u001b[1;32mraise\u001b[0m \u001b[0mKeyError\u001b[0m\u001b[1;33m(\u001b[0m\u001b[0mkey\u001b[0m\u001b[1;33m)\u001b[0m \u001b[1;32mfrom\u001b[0m \u001b[0merr\u001b[0m\u001b[1;33m\u001b[0m\u001b[1;33m\u001b[0m\u001b[0m\n\u001b[0m\u001b[0;32m   2898\u001b[0m \u001b[1;33m\u001b[0m\u001b[0m\n\u001b[0;32m   2899\u001b[0m         \u001b[1;32mif\u001b[0m \u001b[0mtolerance\u001b[0m \u001b[1;32mis\u001b[0m \u001b[1;32mnot\u001b[0m \u001b[1;32mNone\u001b[0m\u001b[1;33m:\u001b[0m\u001b[1;33m\u001b[0m\u001b[1;33m\u001b[0m\u001b[0m\n",
      "\u001b[1;31mKeyError\u001b[0m: 'Open'"
     ]
    }
   ],
   "source": [
    "df1['Open']"
   ]
  },
  {
   "cell_type": "markdown",
   "metadata": {},
   "source": [
    "# Q1: Compare, contrast and check whether there is any correlation between the\n",
    "## BSE overall market and the telecommunication industry?\n",
    "\n",
    "### Sol:\n",
    "#### find all max 5 of each stock and their dates  \n",
    "#### find all min 5 of each stock and their dates\n",
    "#### find all max 5 of bse market and their dates\n",
    "#### find all min 5 of bse market and their dates\n",
    "#### compare dates if any same ?\n",
    "#### else compare each date in bse with all 5 stocks find any relation?\n",
    "\n",
    "##### airtel.csv, mtnl.csv, relianc comm.csv, vodafone.csv, tata comm.csv\n"
   ]
  },
  {
   "cell_type": "code",
   "execution_count": 3,
   "metadata": {},
   "outputs": [],
   "source": [
    "import pandas as pd"
   ]
  },
  {
   "cell_type": "code",
   "execution_count": 4,
   "metadata": {},
   "outputs": [],
   "source": [
    "ds1=pd.read_csv('airtel.csv')\n",
    "ds2=pd.read_csv('mtnl.csv')\n",
    "ds3=pd.read_csv('reliance comm.csv')\n",
    "ds4=pd.read_csv('vodafone.csv')\n",
    "ds5=pd.read_csv('tata comm.csv')\n",
    "ds6=pd.read_csv('bse_data.csv')\n"
   ]
  },
  {
   "cell_type": "code",
   "execution_count": 4,
   "metadata": {},
   "outputs": [],
   "source": [
    "ds0=pd.read_csv('bda_added%gains.csv')\n"
   ]
  },
  {
   "cell_type": "code",
   "execution_count": 6,
   "metadata": {
    "scrolled": true
   },
   "outputs": [
    {
     "data": {
      "text/html": [
       "<div>\n",
       "<style scoped>\n",
       "    .dataframe tbody tr th:only-of-type {\n",
       "        vertical-align: middle;\n",
       "    }\n",
       "\n",
       "    .dataframe tbody tr th {\n",
       "        vertical-align: top;\n",
       "    }\n",
       "\n",
       "    .dataframe thead th {\n",
       "        text-align: right;\n",
       "    }\n",
       "</style>\n",
       "<table border=\"1\" class=\"dataframe\">\n",
       "  <thead>\n",
       "    <tr style=\"text-align: right;\">\n",
       "      <th></th>\n",
       "      <th>Date</th>\n",
       "      <th>Tata Comm Open Price</th>\n",
       "      <th>Mtnl Open Price</th>\n",
       "      <th>Reliance Open Price</th>\n",
       "      <th>Airtel Open Price</th>\n",
       "      <th>Vodafone Open Price</th>\n",
       "      <th>Tata CommnHigh Price</th>\n",
       "      <th>Mtnl High Price</th>\n",
       "      <th>Reliance High Price</th>\n",
       "      <th>Airtel High Price</th>\n",
       "      <th>...</th>\n",
       "      <th>Tata Commn Close Price</th>\n",
       "      <th>Mtnl Close Price</th>\n",
       "      <th>Reliance Close Price</th>\n",
       "      <th>Airtel Close Price</th>\n",
       "      <th>Vodafone Close Price</th>\n",
       "      <th>Tata Commn No. of Trades</th>\n",
       "      <th>Mtnl No. of Trades</th>\n",
       "      <th>Reliance No. of Trades</th>\n",
       "      <th>Airtel No. of Trades</th>\n",
       "      <th>Vodafone No. of Trades</th>\n",
       "    </tr>\n",
       "  </thead>\n",
       "  <tbody>\n",
       "    <tr>\n",
       "      <th>0</th>\n",
       "      <td>1-Jan-21</td>\n",
       "      <td>1100.00</td>\n",
       "      <td>14.00</td>\n",
       "      <td>2.00</td>\n",
       "      <td>510.60</td>\n",
       "      <td>10.72</td>\n",
       "      <td>1100.00</td>\n",
       "      <td>14.00</td>\n",
       "      <td>2.03</td>\n",
       "      <td>516.25</td>\n",
       "      <td>...</td>\n",
       "      <td>1094.70</td>\n",
       "      <td>13.73</td>\n",
       "      <td>2.01</td>\n",
       "      <td>515.10</td>\n",
       "      <td>11.20</td>\n",
       "      <td>373</td>\n",
       "      <td>973</td>\n",
       "      <td>2871</td>\n",
       "      <td>4975</td>\n",
       "      <td>81780</td>\n",
       "    </tr>\n",
       "    <tr>\n",
       "      <th>1</th>\n",
       "      <td>31-Dec-20</td>\n",
       "      <td>1080.35</td>\n",
       "      <td>13.85</td>\n",
       "      <td>2.01</td>\n",
       "      <td>515.95</td>\n",
       "      <td>10.16</td>\n",
       "      <td>1104.95</td>\n",
       "      <td>14.20</td>\n",
       "      <td>2.03</td>\n",
       "      <td>518.45</td>\n",
       "      <td>...</td>\n",
       "      <td>1100.20</td>\n",
       "      <td>13.83</td>\n",
       "      <td>2.01</td>\n",
       "      <td>509.30</td>\n",
       "      <td>10.64</td>\n",
       "      <td>1215</td>\n",
       "      <td>1118</td>\n",
       "      <td>2015</td>\n",
       "      <td>8045</td>\n",
       "      <td>115133</td>\n",
       "    </tr>\n",
       "    <tr>\n",
       "      <th>2</th>\n",
       "      <td>30-Dec-20</td>\n",
       "      <td>1035.00</td>\n",
       "      <td>13.60</td>\n",
       "      <td>2.04</td>\n",
       "      <td>523.00</td>\n",
       "      <td>10.31</td>\n",
       "      <td>1082.00</td>\n",
       "      <td>13.65</td>\n",
       "      <td>2.05</td>\n",
       "      <td>523.00</td>\n",
       "      <td>...</td>\n",
       "      <td>1077.05</td>\n",
       "      <td>13.48</td>\n",
       "      <td>2.03</td>\n",
       "      <td>515.95</td>\n",
       "      <td>10.22</td>\n",
       "      <td>834</td>\n",
       "      <td>393</td>\n",
       "      <td>2152</td>\n",
       "      <td>7839</td>\n",
       "      <td>89592</td>\n",
       "    </tr>\n",
       "    <tr>\n",
       "      <th>3</th>\n",
       "      <td>29-Dec-20</td>\n",
       "      <td>1071.50</td>\n",
       "      <td>13.70</td>\n",
       "      <td>2.00</td>\n",
       "      <td>521.95</td>\n",
       "      <td>10.42</td>\n",
       "      <td>1078.00</td>\n",
       "      <td>14.10</td>\n",
       "      <td>2.06</td>\n",
       "      <td>525.00</td>\n",
       "      <td>...</td>\n",
       "      <td>1069.95</td>\n",
       "      <td>13.54</td>\n",
       "      <td>2.04</td>\n",
       "      <td>520.25</td>\n",
       "      <td>10.29</td>\n",
       "      <td>600</td>\n",
       "      <td>1155</td>\n",
       "      <td>2224</td>\n",
       "      <td>4591</td>\n",
       "      <td>57253</td>\n",
       "    </tr>\n",
       "    <tr>\n",
       "      <th>4</th>\n",
       "      <td>28-Dec-20</td>\n",
       "      <td>1070.00</td>\n",
       "      <td>14.30</td>\n",
       "      <td>2.05</td>\n",
       "      <td>520.00</td>\n",
       "      <td>10.18</td>\n",
       "      <td>1080.00</td>\n",
       "      <td>14.35</td>\n",
       "      <td>2.05</td>\n",
       "      <td>526.95</td>\n",
       "      <td>...</td>\n",
       "      <td>1064.10</td>\n",
       "      <td>13.79</td>\n",
       "      <td>1.97</td>\n",
       "      <td>521.55</td>\n",
       "      <td>10.38</td>\n",
       "      <td>735</td>\n",
       "      <td>1748</td>\n",
       "      <td>4384</td>\n",
       "      <td>5024</td>\n",
       "      <td>83560</td>\n",
       "    </tr>\n",
       "    <tr>\n",
       "      <th>...</th>\n",
       "      <td>...</td>\n",
       "      <td>...</td>\n",
       "      <td>...</td>\n",
       "      <td>...</td>\n",
       "      <td>...</td>\n",
       "      <td>...</td>\n",
       "      <td>...</td>\n",
       "      <td>...</td>\n",
       "      <td>...</td>\n",
       "      <td>...</td>\n",
       "      <td>...</td>\n",
       "      <td>...</td>\n",
       "      <td>...</td>\n",
       "      <td>...</td>\n",
       "      <td>...</td>\n",
       "      <td>...</td>\n",
       "      <td>...</td>\n",
       "      <td>...</td>\n",
       "      <td>...</td>\n",
       "      <td>...</td>\n",
       "      <td>...</td>\n",
       "    </tr>\n",
       "    <tr>\n",
       "      <th>2473</th>\n",
       "      <td>7-Jan-11</td>\n",
       "      <td>256.00</td>\n",
       "      <td>56.80</td>\n",
       "      <td>139.90</td>\n",
       "      <td>353.90</td>\n",
       "      <td>69.80</td>\n",
       "      <td>263.45</td>\n",
       "      <td>57.40</td>\n",
       "      <td>143.85</td>\n",
       "      <td>354.75</td>\n",
       "      <td>...</td>\n",
       "      <td>252.25</td>\n",
       "      <td>55.00</td>\n",
       "      <td>139.10</td>\n",
       "      <td>338.70</td>\n",
       "      <td>67.30</td>\n",
       "      <td>850</td>\n",
       "      <td>1434</td>\n",
       "      <td>18291</td>\n",
       "      <td>5778</td>\n",
       "      <td>1939</td>\n",
       "    </tr>\n",
       "    <tr>\n",
       "      <th>2474</th>\n",
       "      <td>6-Jan-11</td>\n",
       "      <td>261.00</td>\n",
       "      <td>57.00</td>\n",
       "      <td>140.00</td>\n",
       "      <td>351.00</td>\n",
       "      <td>69.00</td>\n",
       "      <td>265.00</td>\n",
       "      <td>57.75</td>\n",
       "      <td>142.80</td>\n",
       "      <td>355.35</td>\n",
       "      <td>...</td>\n",
       "      <td>257.80</td>\n",
       "      <td>56.85</td>\n",
       "      <td>139.95</td>\n",
       "      <td>353.25</td>\n",
       "      <td>69.60</td>\n",
       "      <td>463</td>\n",
       "      <td>1727</td>\n",
       "      <td>12409</td>\n",
       "      <td>2516</td>\n",
       "      <td>1403</td>\n",
       "    </tr>\n",
       "    <tr>\n",
       "      <th>2475</th>\n",
       "      <td>5-Jan-11</td>\n",
       "      <td>263.05</td>\n",
       "      <td>58.40</td>\n",
       "      <td>145.50</td>\n",
       "      <td>353.90</td>\n",
       "      <td>69.75</td>\n",
       "      <td>265.35</td>\n",
       "      <td>58.40</td>\n",
       "      <td>145.50</td>\n",
       "      <td>355.70</td>\n",
       "      <td>...</td>\n",
       "      <td>261.10</td>\n",
       "      <td>56.85</td>\n",
       "      <td>140.15</td>\n",
       "      <td>349.90</td>\n",
       "      <td>69.45</td>\n",
       "      <td>438</td>\n",
       "      <td>1163</td>\n",
       "      <td>12715</td>\n",
       "      <td>2552</td>\n",
       "      <td>1151</td>\n",
       "    </tr>\n",
       "    <tr>\n",
       "      <th>2476</th>\n",
       "      <td>4-Jan-11</td>\n",
       "      <td>266.60</td>\n",
       "      <td>57.75</td>\n",
       "      <td>148.55</td>\n",
       "      <td>361.00</td>\n",
       "      <td>71.00</td>\n",
       "      <td>270.00</td>\n",
       "      <td>58.45</td>\n",
       "      <td>149.40</td>\n",
       "      <td>361.75</td>\n",
       "      <td>...</td>\n",
       "      <td>264.90</td>\n",
       "      <td>57.65</td>\n",
       "      <td>144.20</td>\n",
       "      <td>355.30</td>\n",
       "      <td>69.50</td>\n",
       "      <td>720</td>\n",
       "      <td>1927</td>\n",
       "      <td>13005</td>\n",
       "      <td>3163</td>\n",
       "      <td>1379</td>\n",
       "    </tr>\n",
       "    <tr>\n",
       "      <th>2477</th>\n",
       "      <td>3-Jan-11</td>\n",
       "      <td>256.90</td>\n",
       "      <td>55.50</td>\n",
       "      <td>147.15</td>\n",
       "      <td>358.40</td>\n",
       "      <td>70.50</td>\n",
       "      <td>265.90</td>\n",
       "      <td>58.00</td>\n",
       "      <td>149.90</td>\n",
       "      <td>364.90</td>\n",
       "      <td>...</td>\n",
       "      <td>265.10</td>\n",
       "      <td>57.40</td>\n",
       "      <td>147.90</td>\n",
       "      <td>359.35</td>\n",
       "      <td>70.70</td>\n",
       "      <td>1326</td>\n",
       "      <td>3184</td>\n",
       "      <td>14824</td>\n",
       "      <td>5263</td>\n",
       "      <td>2359</td>\n",
       "    </tr>\n",
       "  </tbody>\n",
       "</table>\n",
       "<p>2478 rows × 26 columns</p>\n",
       "</div>"
      ],
      "text/plain": [
       "           Date  Tata Comm Open Price  Mtnl Open Price  Reliance Open Price  \\\n",
       "0      1-Jan-21               1100.00            14.00                 2.00   \n",
       "1     31-Dec-20               1080.35            13.85                 2.01   \n",
       "2     30-Dec-20               1035.00            13.60                 2.04   \n",
       "3     29-Dec-20               1071.50            13.70                 2.00   \n",
       "4     28-Dec-20               1070.00            14.30                 2.05   \n",
       "...         ...                   ...              ...                  ...   \n",
       "2473   7-Jan-11                256.00            56.80               139.90   \n",
       "2474   6-Jan-11                261.00            57.00               140.00   \n",
       "2475   5-Jan-11                263.05            58.40               145.50   \n",
       "2476   4-Jan-11                266.60            57.75               148.55   \n",
       "2477   3-Jan-11                256.90            55.50               147.15   \n",
       "\n",
       "      Airtel Open Price  Vodafone Open Price  Tata CommnHigh Price  \\\n",
       "0                510.60                10.72               1100.00   \n",
       "1                515.95                10.16               1104.95   \n",
       "2                523.00                10.31               1082.00   \n",
       "3                521.95                10.42               1078.00   \n",
       "4                520.00                10.18               1080.00   \n",
       "...                 ...                  ...                   ...   \n",
       "2473             353.90                69.80                263.45   \n",
       "2474             351.00                69.00                265.00   \n",
       "2475             353.90                69.75                265.35   \n",
       "2476             361.00                71.00                270.00   \n",
       "2477             358.40                70.50                265.90   \n",
       "\n",
       "      Mtnl High Price  Reliance High Price  Airtel High Price  ...  \\\n",
       "0               14.00                 2.03             516.25  ...   \n",
       "1               14.20                 2.03             518.45  ...   \n",
       "2               13.65                 2.05             523.00  ...   \n",
       "3               14.10                 2.06             525.00  ...   \n",
       "4               14.35                 2.05             526.95  ...   \n",
       "...               ...                  ...                ...  ...   \n",
       "2473            57.40               143.85             354.75  ...   \n",
       "2474            57.75               142.80             355.35  ...   \n",
       "2475            58.40               145.50             355.70  ...   \n",
       "2476            58.45               149.40             361.75  ...   \n",
       "2477            58.00               149.90             364.90  ...   \n",
       "\n",
       "      Tata Commn Close Price  Mtnl Close Price  Reliance Close Price  \\\n",
       "0                    1094.70             13.73                  2.01   \n",
       "1                    1100.20             13.83                  2.01   \n",
       "2                    1077.05             13.48                  2.03   \n",
       "3                    1069.95             13.54                  2.04   \n",
       "4                    1064.10             13.79                  1.97   \n",
       "...                      ...               ...                   ...   \n",
       "2473                  252.25             55.00                139.10   \n",
       "2474                  257.80             56.85                139.95   \n",
       "2475                  261.10             56.85                140.15   \n",
       "2476                  264.90             57.65                144.20   \n",
       "2477                  265.10             57.40                147.90   \n",
       "\n",
       "      Airtel Close Price  Vodafone Close Price  Tata Commn No. of Trades  \\\n",
       "0                 515.10                 11.20                       373   \n",
       "1                 509.30                 10.64                      1215   \n",
       "2                 515.95                 10.22                       834   \n",
       "3                 520.25                 10.29                       600   \n",
       "4                 521.55                 10.38                       735   \n",
       "...                  ...                   ...                       ...   \n",
       "2473              338.70                 67.30                       850   \n",
       "2474              353.25                 69.60                       463   \n",
       "2475              349.90                 69.45                       438   \n",
       "2476              355.30                 69.50                       720   \n",
       "2477              359.35                 70.70                      1326   \n",
       "\n",
       "      Mtnl No. of Trades  Reliance No. of Trades  Airtel No. of Trades  \\\n",
       "0                    973                    2871                  4975   \n",
       "1                   1118                    2015                  8045   \n",
       "2                    393                    2152                  7839   \n",
       "3                   1155                    2224                  4591   \n",
       "4                   1748                    4384                  5024   \n",
       "...                  ...                     ...                   ...   \n",
       "2473                1434                   18291                  5778   \n",
       "2474                1727                   12409                  2516   \n",
       "2475                1163                   12715                  2552   \n",
       "2476                1927                   13005                  3163   \n",
       "2477                3184                   14824                  5263   \n",
       "\n",
       "      Vodafone No. of Trades  \n",
       "0                      81780  \n",
       "1                     115133  \n",
       "2                      89592  \n",
       "3                      57253  \n",
       "4                      83560  \n",
       "...                      ...  \n",
       "2473                    1939  \n",
       "2474                    1403  \n",
       "2475                    1151  \n",
       "2476                    1379  \n",
       "2477                    2359  \n",
       "\n",
       "[2478 rows x 26 columns]"
      ]
     },
     "execution_count": 6,
     "metadata": {},
     "output_type": "execute_result"
    }
   ],
   "source": [
    "ds0"
   ]
  },
  {
   "cell_type": "code",
   "execution_count": 6,
   "metadata": {},
   "outputs": [],
   "source": [
    "l1=(((ds0['Tata Commn Close Price']-ds0['Tata Comm Open Price'])/ds0['Tata Commn Close Price'])*100)\n",
    "\n",
    "l2=(((ds0['Mtnl Close Price']-ds0['Mtnl Open Price'])/ds0['Mtnl Close Price'])*100)\n",
    "l3=(((ds0['Reliance Close Price']-ds0['Reliance Open Price'])/ds0['Reliance Close Price'])*100)\n",
    "l4=(((ds0['Airtel Close Price']-ds0['Airtel Open Price'])/ds0['Airtel Close Price'])*100)\n",
    "l5=(((ds0['Vodafone Close Price']-ds0['Vodafone Open Price'])/ds0['Vodafone Close Price'])*100)\n",
    "#l6=(((ds6['Close Price']-ds6['Open Price'])/ds6['Close Price'])*100)\n"
   ]
  },
  {
   "cell_type": "code",
   "execution_count": 9,
   "metadata": {},
   "outputs": [],
   "source": [
    "ds0['Tata %gain']=l1\n",
    "ds0['Mtnl %gain']=l2\n",
    "ds0['Reliance %gain']=l3\n",
    "ds0['Airtel %gain']=l4\n",
    "ds0['Vodafone %gain']=l5\n",
    "l6=ds0['BSE %gain']\n"
   ]
  },
  {
   "cell_type": "code",
   "execution_count": 39,
   "metadata": {},
   "outputs": [],
   "source": [
    "ds0.to_csv('total %gains.csv')"
   ]
  },
  {
   "cell_type": "code",
   "execution_count": 10,
   "metadata": {},
   "outputs": [
    {
     "data": {
      "text/plain": [
       "185     14.053848\n",
       "276     13.199426\n",
       "1854    10.548523\n",
       "2422    10.144338\n",
       "141     10.011249\n",
       "1918    10.004275\n",
       "1764     9.217877\n",
       "170      9.203822\n",
       "1053     8.682582\n",
       "131      8.562445\n",
       "dtype: float64"
      ]
     },
     "execution_count": 10,
     "metadata": {},
     "output_type": "execute_result"
    }
   ],
   "source": [
    "l1.nlargest(10)  # max 10 % gains by Tata"
   ]
  },
  {
   "cell_type": "code",
   "execution_count": 11,
   "metadata": {},
   "outputs": [
    {
     "data": {
      "text/plain": [
       "202    -18.371919\n",
       "1324   -12.086428\n",
       "198    -12.079646\n",
       "2450    -9.923664\n",
       "907     -8.934842\n",
       "194     -8.817766\n",
       "197     -8.670520\n",
       "2362    -8.405342\n",
       "169     -8.369650\n",
       "1536    -7.497244\n",
       "dtype: float64"
      ]
     },
     "execution_count": 11,
     "metadata": {},
     "output_type": "execute_result"
    }
   ],
   "source": [
    "l1.nsmallest(10) # min 10 % gains by Tata"
   ]
  },
  {
   "cell_type": "code",
   "execution_count": 12,
   "metadata": {},
   "outputs": [],
   "source": [
    "d11=[185,276,1854,2422,141,1918,1764,170,1053,131]\n",
    "d12=[202,1324,198,2450,907,194,197,2362,169,1536]"
   ]
  },
  {
   "cell_type": "code",
   "execution_count": 13,
   "metadata": {},
   "outputs": [
    {
     "name": "stdout",
     "output_type": "stream",
     "text": [
      "12-Mar-20\n",
      "24-Aug-15\n",
      "18-Mar-20\n",
      "10-Feb-11\n",
      "5-May-17\n",
      "24-Mar-20\n",
      "19-Mar-20\n",
      "20-Jun-11\n",
      "5-May-20\n",
      "16-Oct-14\n"
     ]
    }
   ],
   "source": [
    "for i in d12:\n",
    "    print(ds0['Date'][i])"
   ]
  },
  {
   "cell_type": "code",
   "execution_count": 14,
   "metadata": {},
   "outputs": [
    {
     "data": {
      "text/plain": [
       "1360    19.095477\n",
       "312     16.920732\n",
       "1633    16.562500\n",
       "967     15.811088\n",
       "1804    15.635179\n",
       "496     15.463918\n",
       "1636    15.238095\n",
       "9       14.164742\n",
       "2196    13.742690\n",
       "48      12.873134\n",
       "dtype: float64"
      ]
     },
     "execution_count": 14,
     "metadata": {},
     "output_type": "execute_result"
    }
   ],
   "source": [
    "l2.nlargest(10) # max 10 by Mtnl\n"
   ]
  },
  {
   "cell_type": "code",
   "execution_count": 15,
   "metadata": {},
   "outputs": [
    {
     "data": {
      "text/plain": [
       "1438   -22.090261\n",
       "2042   -17.987805\n",
       "310    -17.601246\n",
       "47     -15.308151\n",
       "205    -14.777618\n",
       "338    -14.052953\n",
       "2062   -13.925729\n",
       "1822   -13.837638\n",
       "2457   -13.282937\n",
       "1618   -11.111111\n",
       "dtype: float64"
      ]
     },
     "execution_count": 15,
     "metadata": {},
     "output_type": "execute_result"
    }
   ],
   "source": [
    "l2.nsmallest(10) # min 10 by mtnl"
   ]
  },
  {
   "cell_type": "code",
   "execution_count": 16,
   "metadata": {},
   "outputs": [],
   "source": [
    "d21=[1360,312,1633,67,1804,496,1636,9,2196,48]\n",
    "d22=[1438,2042,310,47,205,338,2062,1822,2457,1618]"
   ]
  },
  {
   "cell_type": "code",
   "execution_count": 17,
   "metadata": {},
   "outputs": [
    {
     "name": "stdout",
     "output_type": "stream",
     "text": [
      "11-Mar-15\n",
      "27-Sep-12\n",
      "7-Oct-19\n",
      "26-Oct-20\n",
      "6-Mar-20\n",
      "22-Aug-19\n",
      "30-Aug-12\n",
      "16-Aug-13\n",
      "1-Feb-11\n",
      "13-Jun-14\n"
     ]
    }
   ],
   "source": [
    "for i in d22:\n",
    "    print(ds0['Date'][i])"
   ]
  },
  {
   "cell_type": "code",
   "execution_count": 18,
   "metadata": {},
   "outputs": [
    {
     "data": {
      "text/plain": [
       "650     36.858006\n",
       "749     24.377533\n",
       "746     22.644163\n",
       "745     18.371608\n",
       "773     15.254237\n",
       "837     13.692946\n",
       "2337    12.558140\n",
       "517     11.702873\n",
       "1916    11.216430\n",
       "1903    11.207779\n",
       "dtype: float64"
      ]
     },
     "execution_count": 18,
     "metadata": {},
     "output_type": "execute_result"
    }
   ],
   "source": [
    "l3.nlargest(10) # max 10 by reliance"
   ]
  },
  {
   "cell_type": "code",
   "execution_count": 19,
   "metadata": {},
   "outputs": [
    {
     "data": {
      "text/plain": [
       "471    -38.786765\n",
       "472    -38.278146\n",
       "891    -25.121951\n",
       "2434   -24.319822\n",
       "649    -18.566775\n",
       "1937   -15.290270\n",
       "2451   -14.918292\n",
       "1324   -14.792899\n",
       "1331   -14.155629\n",
       "448    -13.197026\n",
       "dtype: float64"
      ]
     },
     "execution_count": 19,
     "metadata": {},
     "output_type": "execute_result"
    }
   ],
   "source": [
    "l3.nsmallest(10) # min 10 by reliance"
   ]
  },
  {
   "cell_type": "code",
   "execution_count": 20,
   "metadata": {},
   "outputs": [],
   "source": [
    "d31=[650,749,746,745,773,837,2337,517,1916,1903]\n",
    "d32=[471,472,891,2434,649,1937,2451,1324,1331,448]"
   ]
  },
  {
   "cell_type": "code",
   "execution_count": 21,
   "metadata": {},
   "outputs": [
    {
     "name": "stdout",
     "output_type": "stream",
     "text": [
      "5-Feb-19\n",
      "4-Feb-19\n",
      "29-May-17\n",
      "7-Mar-11\n",
      "18-May-18\n",
      "28-Feb-13\n",
      "9-Feb-11\n",
      "24-Aug-15\n",
      "13-Aug-15\n",
      "11-Mar-19\n"
     ]
    }
   ],
   "source": [
    "for i in d32:\n",
    "    print(ds0['Date'][i])"
   ]
  },
  {
   "cell_type": "code",
   "execution_count": 10,
   "metadata": {},
   "outputs": [
    {
     "data": {
      "text/plain": [
       "201     12.585998\n",
       "284      9.867752\n",
       "904      9.578750\n",
       "542      9.234412\n",
       "192      9.205021\n",
       "1832     9.147579\n",
       "526      8.932854\n",
       "186      8.094884\n",
       "197      7.799506\n",
       "448      7.401858\n",
       "dtype: float64"
      ]
     },
     "execution_count": 10,
     "metadata": {},
     "output_type": "execute_result"
    }
   ],
   "source": [
    "l4.nlargest(10) ## max 10 by airtel"
   ]
  },
  {
   "cell_type": "code",
   "execution_count": 11,
   "metadata": {},
   "outputs": [
    {
     "data": {
      "text/plain": [
       "514    -8.869677\n",
       "69     -8.319889\n",
       "198    -7.930549\n",
       "2075   -7.416780\n",
       "1810   -7.368421\n",
       "1819   -7.350971\n",
       "2076   -7.106414\n",
       "725    -6.983332\n",
       "483    -6.592700\n",
       "1426   -6.592238\n",
       "dtype: float64"
      ]
     },
     "execution_count": 11,
     "metadata": {},
     "output_type": "execute_result"
    }
   ],
   "source": [
    "l4.nsmallest(10) # min 10 by airtel"
   ]
  },
  {
   "cell_type": "code",
   "execution_count": 12,
   "metadata": {},
   "outputs": [],
   "source": [
    "d41=[201,284,904,542,192,1832,526,186,197,448]\n",
    "d42=[514,69,198,2075,1810,1819,2076,725,483,1426]"
   ]
  },
  {
   "cell_type": "code",
   "execution_count": 25,
   "metadata": {},
   "outputs": [
    {
     "name": "stdout",
     "output_type": "stream",
     "text": [
      "5-Dec-18\n",
      "23-Sep-20\n",
      "18-Mar-20\n",
      "9-Aug-12\n",
      "3-Sep-13\n",
      "21-Aug-13\n",
      "8-Aug-12\n",
      "24-Jan-18\n",
      "18-Jan-19\n",
      "27-Mar-15\n"
     ]
    }
   ],
   "source": [
    "for i in d42:\n",
    "    print(ds0['Date'][i])"
   ]
  },
  {
   "cell_type": "code",
   "execution_count": 26,
   "metadata": {},
   "outputs": [
    {
     "data": {
      "text/plain": [
       "201    31.438721\n",
       "284    27.717391\n",
       "216    23.627685\n",
       "183    18.536585\n",
       "282    18.438538\n",
       "971    18.427769\n",
       "142    16.650246\n",
       "83     16.401274\n",
       "204    14.750000\n",
       "150    13.971539\n",
       "dtype: float64"
      ]
     },
     "execution_count": 26,
     "metadata": {},
     "output_type": "execute_result"
    }
   ],
   "source": [
    "l5.nlargest(10)"
   ]
  },
  {
   "cell_type": "code",
   "execution_count": 27,
   "metadata": {},
   "outputs": [
    {
     "data": {
      "text/plain": [
       "198   -68.670886\n",
       "354   -32.939439\n",
       "299   -29.561201\n",
       "214   -24.742268\n",
       "199   -23.917526\n",
       "145   -23.908730\n",
       "85    -21.484814\n",
       "219   -20.639535\n",
       "240   -20.399113\n",
       "143   -18.956337\n",
       "dtype: float64"
      ]
     },
     "execution_count": 27,
     "metadata": {},
     "output_type": "execute_result"
    }
   ],
   "source": [
    "l5.nsmallest(10)"
   ]
  },
  {
   "cell_type": "code",
   "execution_count": 28,
   "metadata": {},
   "outputs": [],
   "source": [
    "d51=[201,284,216,183,282,971,142,83,204,150]\n",
    "d52=[198,354,299,214,199,145,85,219,240,143]\n"
   ]
  },
  {
   "cell_type": "code",
   "execution_count": 59,
   "metadata": {},
   "outputs": [
    {
     "name": "stdout",
     "output_type": "stream",
     "text": [
      "Friday\n",
      "Friday\n",
      "Wednesday\n",
      "Monday\n",
      "Tuesday\n",
      "Monday\n",
      "Friday\n",
      "Thursday\n",
      "Monday\n",
      "Tuesday\n"
     ]
    }
   ],
   "source": [
    "for i in d51:\n",
    "    print(ds0['Day'][i])"
   ]
  },
  {
   "cell_type": "code",
   "execution_count": 13,
   "metadata": {},
   "outputs": [
    {
     "data": {
      "text/plain": [
       "201     8.472303\n",
       "193     7.134797\n",
       "196     4.864093\n",
       "320     4.734231\n",
       "142     3.979173\n",
       "186     3.887457\n",
       "1028    3.673604\n",
       "192     2.915373\n",
       "1807    2.743899\n",
       "1644    2.693067\n",
       "Name: BSE %gain, dtype: float64"
      ]
     },
     "execution_count": 13,
     "metadata": {},
     "output_type": "execute_result"
    }
   ],
   "source": [
    "l6.nlargest(10)"
   ]
  },
  {
   "cell_type": "code",
   "execution_count": 14,
   "metadata": {},
   "outputs": [
    {
     "data": {
      "text/plain": [
       "198    -7.271790\n",
       "195    -6.264366\n",
       "200    -5.457681\n",
       "202    -5.169177\n",
       "188    -4.387074\n",
       "1811   -4.212363\n",
       "160    -4.060344\n",
       "1325   -3.841414\n",
       "1823   -3.758056\n",
       "187    -3.742459\n",
       "Name: BSE %gain, dtype: float64"
      ]
     },
     "execution_count": 14,
     "metadata": {},
     "output_type": "execute_result"
    }
   ],
   "source": [
    "l6.nsmallest(10)"
   ]
  },
  {
   "cell_type": "code",
   "execution_count": 15,
   "metadata": {},
   "outputs": [],
   "source": [
    "d61=[201,193,196,320,142,186,1028,192,1807,1644]\n",
    "d62=[198,195,200,202,188,1811,160,1325,1823,187]"
   ]
  },
  {
   "cell_type": "code",
   "execution_count": 16,
   "metadata": {},
   "outputs": [
    {
     "ename": "NameError",
     "evalue": "name 'ds6' is not defined",
     "output_type": "error",
     "traceback": [
      "\u001b[1;31m---------------------------------------------------------------------------\u001b[0m",
      "\u001b[1;31mNameError\u001b[0m                                 Traceback (most recent call last)",
      "\u001b[1;32m<ipython-input-16-51cb4a51e23f>\u001b[0m in \u001b[0;36m<module>\u001b[1;34m\u001b[0m\n\u001b[0;32m      1\u001b[0m \u001b[1;32mfor\u001b[0m \u001b[0mi\u001b[0m \u001b[1;32min\u001b[0m \u001b[0md62\u001b[0m\u001b[1;33m:\u001b[0m\u001b[1;33m\u001b[0m\u001b[1;33m\u001b[0m\u001b[0m\n\u001b[1;32m----> 2\u001b[1;33m     \u001b[0mprint\u001b[0m\u001b[1;33m(\u001b[0m\u001b[0mds6\u001b[0m\u001b[1;33m[\u001b[0m\u001b[1;34m'Date'\u001b[0m\u001b[1;33m]\u001b[0m\u001b[1;33m[\u001b[0m\u001b[0mi\u001b[0m\u001b[1;33m]\u001b[0m\u001b[1;33m)\u001b[0m\u001b[1;33m\u001b[0m\u001b[1;33m\u001b[0m\u001b[0m\n\u001b[0m",
      "\u001b[1;31mNameError\u001b[0m: name 'ds6' is not defined"
     ]
    }
   ],
   "source": [
    "for i in d62:\n",
    "    print(ds6['Date'][i])"
   ]
  },
  {
   "cell_type": "code",
   "execution_count": 17,
   "metadata": {},
   "outputs": [
    {
     "name": "stdout",
     "output_type": "stream",
     "text": [
      "13-Mar-20\n",
      "7-Apr-20\n",
      "26-Mar-20\n"
     ]
    }
   ],
   "source": [
    "for i in d61:\n",
    "    for j in d41:\n",
    "        if(i==j):\n",
    "            print(ds0['Date'][i])"
   ]
  },
  {
   "cell_type": "markdown",
   "metadata": {},
   "source": [
    "####  +ve Dates with Market: Tata 0 Mtnl 0 Reliance 0\n",
    "##### Airtel  13-Mar-20, 7-Apr-20, 26-Mar-20 \n",
    "##### Vodafone 13-Mar-20, 12-Jun-20"
   ]
  },
  {
   "cell_type": "markdown",
   "metadata": {},
   "source": [
    "#### -ve Dates with Market :\n",
    "##### Tata 18-Mar-20, 12-Mar-20\n",
    "##### Mtnl 0\n",
    "##### reliance 0\n",
    "##### Airtel 18-Mar-20\n",
    "##### vodafone  18-Mar-20"
   ]
  },
  {
   "cell_type": "code",
   "execution_count": 35,
   "metadata": {},
   "outputs": [
    {
     "data": {
      "text/html": [
       "<div>\n",
       "<style scoped>\n",
       "    .dataframe tbody tr th:only-of-type {\n",
       "        vertical-align: middle;\n",
       "    }\n",
       "\n",
       "    .dataframe tbody tr th {\n",
       "        vertical-align: top;\n",
       "    }\n",
       "\n",
       "    .dataframe thead th {\n",
       "        text-align: right;\n",
       "    }\n",
       "</style>\n",
       "<table border=\"1\" class=\"dataframe\">\n",
       "  <thead>\n",
       "    <tr style=\"text-align: right;\">\n",
       "      <th></th>\n",
       "      <th>Open Price</th>\n",
       "      <th>High Price</th>\n",
       "      <th>Low Price</th>\n",
       "      <th>Close Price</th>\n",
       "    </tr>\n",
       "  </thead>\n",
       "  <tbody>\n",
       "    <tr>\n",
       "      <th>Open Price</th>\n",
       "      <td>1.000000</td>\n",
       "      <td>0.999761</td>\n",
       "      <td>0.999670</td>\n",
       "      <td>0.999438</td>\n",
       "    </tr>\n",
       "    <tr>\n",
       "      <th>High Price</th>\n",
       "      <td>0.999761</td>\n",
       "      <td>1.000000</td>\n",
       "      <td>0.999524</td>\n",
       "      <td>0.999720</td>\n",
       "    </tr>\n",
       "    <tr>\n",
       "      <th>Low Price</th>\n",
       "      <td>0.999670</td>\n",
       "      <td>0.999524</td>\n",
       "      <td>1.000000</td>\n",
       "      <td>0.999723</td>\n",
       "    </tr>\n",
       "    <tr>\n",
       "      <th>Close Price</th>\n",
       "      <td>0.999438</td>\n",
       "      <td>0.999720</td>\n",
       "      <td>0.999723</td>\n",
       "      <td>1.000000</td>\n",
       "    </tr>\n",
       "  </tbody>\n",
       "</table>\n",
       "</div>"
      ],
      "text/plain": [
       "             Open Price  High Price  Low Price  Close Price\n",
       "Open Price     1.000000    0.999761   0.999670     0.999438\n",
       "High Price     0.999761    1.000000   0.999524     0.999720\n",
       "Low Price      0.999670    0.999524   1.000000     0.999723\n",
       "Close Price    0.999438    0.999720   0.999723     1.000000"
      ]
     },
     "execution_count": 35,
     "metadata": {},
     "output_type": "execute_result"
    }
   ],
   "source": [
    "ds6.corr()"
   ]
  },
  {
   "cell_type": "code",
   "execution_count": 43,
   "metadata": {},
   "outputs": [],
   "source": [
    "ds7=pd.read_csv('total %gains.csv')"
   ]
  },
  {
   "cell_type": "code",
   "execution_count": 44,
   "metadata": {},
   "outputs": [
    {
     "data": {
      "text/html": [
       "<div>\n",
       "<style scoped>\n",
       "    .dataframe tbody tr th:only-of-type {\n",
       "        vertical-align: middle;\n",
       "    }\n",
       "\n",
       "    .dataframe tbody tr th {\n",
       "        vertical-align: top;\n",
       "    }\n",
       "\n",
       "    .dataframe thead th {\n",
       "        text-align: right;\n",
       "    }\n",
       "</style>\n",
       "<table border=\"1\" class=\"dataframe\">\n",
       "  <thead>\n",
       "    <tr style=\"text-align: right;\">\n",
       "      <th></th>\n",
       "      <th>Tata %gain</th>\n",
       "      <th>Mtnl %gain</th>\n",
       "      <th>Reliance %gain</th>\n",
       "      <th>Airtel %gain</th>\n",
       "      <th>Vodafone %gain</th>\n",
       "      <th>BSE %gain</th>\n",
       "    </tr>\n",
       "  </thead>\n",
       "  <tbody>\n",
       "    <tr>\n",
       "      <th>Tata %gain</th>\n",
       "      <td>1.000000</td>\n",
       "      <td>0.202123</td>\n",
       "      <td>0.248133</td>\n",
       "      <td>0.188086</td>\n",
       "      <td>0.200652</td>\n",
       "      <td>0.040510</td>\n",
       "    </tr>\n",
       "    <tr>\n",
       "      <th>Mtnl %gain</th>\n",
       "      <td>0.202123</td>\n",
       "      <td>1.000000</td>\n",
       "      <td>0.278442</td>\n",
       "      <td>0.122621</td>\n",
       "      <td>0.174855</td>\n",
       "      <td>0.012544</td>\n",
       "    </tr>\n",
       "    <tr>\n",
       "      <th>Reliance %gain</th>\n",
       "      <td>0.248133</td>\n",
       "      <td>0.278442</td>\n",
       "      <td>1.000000</td>\n",
       "      <td>0.198901</td>\n",
       "      <td>0.182287</td>\n",
       "      <td>-0.027469</td>\n",
       "    </tr>\n",
       "    <tr>\n",
       "      <th>Airtel %gain</th>\n",
       "      <td>0.188086</td>\n",
       "      <td>0.122621</td>\n",
       "      <td>0.198901</td>\n",
       "      <td>1.000000</td>\n",
       "      <td>0.395249</td>\n",
       "      <td>0.122953</td>\n",
       "    </tr>\n",
       "    <tr>\n",
       "      <th>Vodafone %gain</th>\n",
       "      <td>0.200652</td>\n",
       "      <td>0.174855</td>\n",
       "      <td>0.182287</td>\n",
       "      <td>0.395249</td>\n",
       "      <td>1.000000</td>\n",
       "      <td>0.154874</td>\n",
       "    </tr>\n",
       "    <tr>\n",
       "      <th>BSE %gain</th>\n",
       "      <td>0.040510</td>\n",
       "      <td>0.012544</td>\n",
       "      <td>-0.027469</td>\n",
       "      <td>0.122953</td>\n",
       "      <td>0.154874</td>\n",
       "      <td>1.000000</td>\n",
       "    </tr>\n",
       "  </tbody>\n",
       "</table>\n",
       "</div>"
      ],
      "text/plain": [
       "                Tata %gain  Mtnl %gain  Reliance %gain  Airtel %gain  \\\n",
       "Tata %gain        1.000000    0.202123        0.248133      0.188086   \n",
       "Mtnl %gain        0.202123    1.000000        0.278442      0.122621   \n",
       "Reliance %gain    0.248133    0.278442        1.000000      0.198901   \n",
       "Airtel %gain      0.188086    0.122621        0.198901      1.000000   \n",
       "Vodafone %gain    0.200652    0.174855        0.182287      0.395249   \n",
       "BSE %gain         0.040510    0.012544       -0.027469      0.122953   \n",
       "\n",
       "                Vodafone %gain  BSE %gain  \n",
       "Tata %gain            0.200652   0.040510  \n",
       "Mtnl %gain            0.174855   0.012544  \n",
       "Reliance %gain        0.182287  -0.027469  \n",
       "Airtel %gain          0.395249   0.122953  \n",
       "Vodafone %gain        1.000000   0.154874  \n",
       "BSE %gain             0.154874   1.000000  "
      ]
     },
     "execution_count": 44,
     "metadata": {},
     "output_type": "execute_result"
    }
   ],
   "source": [
    "ds7.corr()"
   ]
  },
  {
   "cell_type": "markdown",
   "metadata": {},
   "source": [
    "## Completed Q1"
   ]
  },
  {
   "cell_type": "markdown",
   "metadata": {},
   "source": [
    "## Q2: What might be the reason or situation behind the sudden fall and sudden rise that occurred for 5 stocks?"
   ]
  },
  {
   "cell_type": "code",
   "execution_count": null,
   "metadata": {},
   "outputs": [],
   "source": []
  },
  {
   "cell_type": "code",
   "execution_count": null,
   "metadata": {},
   "outputs": [],
   "source": []
  },
  {
   "cell_type": "markdown",
   "metadata": {},
   "source": [
    "## Q3: Find the most common day of the week (Mon...to ..Sat.) where the difference between the open and close price is high for stocks. Also, state the reason for it?\n"
   ]
  },
  {
   "cell_type": "code",
   "execution_count": 2,
   "metadata": {},
   "outputs": [],
   "source": [
    "import pandas as pd\n",
    "ds8=pd.read_csv('bda_added%gains.csv')\n"
   ]
  },
  {
   "cell_type": "code",
   "execution_count": 216,
   "metadata": {},
   "outputs": [
    {
     "name": "stdout",
     "output_type": "stream",
     "text": [
      "216  Monday's have +ve gains of Tata \n",
      "232  Tuesday's +ve gains of Tata  \n",
      "209  Wednesday's +ve gains of Tata  \n",
      "222  Thursday's +ve gains of Tata  \n",
      "209  Friday's +ve gains of Tata  \n",
      "3  Saturday's +ve gains of Tata  \n",
      "1  Sunday's +ve gains of Tata  \n"
     ]
    }
   ],
   "source": [
    "ds8max=ds8[(ds8['Tata %gain'] > 0)]\n",
    "l1=[]\n",
    "l1=ds8max['Day']\n",
    "cm=0\n",
    "ct=0\n",
    "cw=0\n",
    "cth=0\n",
    "cf=0\n",
    "csa=0\n",
    "csu=0\n",
    "for i in l1:\n",
    "    if(i=='Monday'):\n",
    "        cm=cm+1\n",
    "    elif(i=='Tuesday'):\n",
    "        ct=ct+1\n",
    "    elif(i=='Wednesday'):\n",
    "        cw=cw+1\n",
    "    elif(i=='Thursday'):\n",
    "        cth=cth+1\n",
    "    elif(i=='Friday'):\n",
    "        cf=cf+1\n",
    "    elif(i=='Saturday'):\n",
    "        csa=csa+1\n",
    "    elif(i=='Sunday'):\n",
    "        csu=csu+1\n",
    "print(cm,\" Monday's have +ve gains of Tata \")\n",
    "print(ct,\" Tuesday's +ve gains of Tata  \")\n",
    "print(cw,\" Wednesday's +ve gains of Tata  \")\n",
    "print(cth,\" Thursday's +ve gains of Tata  \")\n",
    "print(cf,\" Friday's +ve gains of Tata  \")\n",
    "print(csa,\" Saturday's +ve gains of Tata  \")\n",
    "print(csu,\" Sunday's +ve gains of Tata  \")\n",
    "\n",
    "        "
   ]
  },
  {
   "cell_type": "code",
   "execution_count": 217,
   "metadata": {},
   "outputs": [
    {
     "name": "stdout",
     "output_type": "stream",
     "text": [
      "272  Monday's have -ve gains of Tata \n",
      "262  Tuesday's -ve gains of Tata  \n",
      "284  Wednesday's -ve gains of Tata  \n",
      "267  Thursday's -ve gains of Tata  \n",
      "275  Friday's -ve gains of Tata  \n",
      "6  Saturday's -ve gains of Tata  \n",
      "2  Sunday's -ve gains of Tata  \n"
     ]
    }
   ],
   "source": [
    "ds8min=ds8[(ds8['Tata %gain'] < 0)]\n",
    "l1=[]\n",
    "l1=ds8min['Day']\n",
    "cm=0\n",
    "ct=0\n",
    "cw=0\n",
    "cth=0\n",
    "cf=0\n",
    "csa=0\n",
    "csu=0\n",
    "for i in l1:\n",
    "    if(i=='Monday'):\n",
    "        cm=cm+1\n",
    "    elif(i=='Tuesday'):\n",
    "        ct=ct+1\n",
    "    elif(i=='Wednesday'):\n",
    "        cw=cw+1\n",
    "    elif(i=='Thursday'):\n",
    "        cth=cth+1\n",
    "    elif(i=='Friday'):\n",
    "        cf=cf+1\n",
    "    elif(i=='Saturday'):\n",
    "        csa=csa+1\n",
    "    elif(i=='Sunday'):\n",
    "        csu=csu+1\n",
    "print(cm,\" Monday's have -ve gains of Tata \")\n",
    "print(ct,\" Tuesday's -ve gains of Tata  \")\n",
    "print(cw,\" Wednesday's -ve gains of Tata  \")\n",
    "print(cth,\" Thursday's -ve gains of Tata  \")\n",
    "print(cf,\" Friday's -ve gains of Tata  \")\n",
    "print(csa,\" Saturday's -ve gains of Tata  \")\n",
    "print(csu,\" Sunday's -ve gains of Tata  \")\n",
    "\n",
    "        "
   ]
  },
  {
   "cell_type": "code",
   "execution_count": 218,
   "metadata": {},
   "outputs": [
    {
     "name": "stdout",
     "output_type": "stream",
     "text": [
      "24  Monday's have +ve gains of Tata from Top 100\n",
      "20  Tuesday's +ve gains of Tata from Top 100 \n",
      "18  Wednesday's +ve gains of Tata from Top 100 \n",
      "17  Thursday's +ve gains of Tata from Top 100 \n",
      "21  Friday's +ve gains of Tata from Top 100 \n",
      "0  Saturday's +ve gains of Tata from Top 100 \n",
      "0  Sunday's +ve gains of Tata from Top 100 \n"
     ]
    }
   ],
   "source": [
    "list1=ds8.nlargest(100,'Tata %gain')\n",
    "lsub1=[]\n",
    "lsub1=list1['Day']\n",
    "cm=0\n",
    "ct=0\n",
    "cw=0\n",
    "cth=0\n",
    "cf=0\n",
    "csa=0\n",
    "csu=0\n",
    "for i in lsub1:\n",
    "    if(i=='Monday'):\n",
    "        cm=cm+1\n",
    "    elif(i=='Tuesday'):\n",
    "        ct=ct+1\n",
    "    elif(i=='Wednesday'):\n",
    "        cw=cw+1\n",
    "    elif(i=='Thursday'):\n",
    "        cth=cth+1\n",
    "    elif(i=='Friday'):\n",
    "        cf=cf+1\n",
    "    elif(i=='Saturday'):\n",
    "        csa=csa+1\n",
    "    elif(i=='Sunday'):\n",
    "        csu=csu+1\n",
    "print(cm,\" Monday's have +ve gains of Tata from Top 100\")\n",
    "print(ct,\" Tuesday's +ve gains of Tata from Top 100 \")\n",
    "print(cw,\" Wednesday's +ve gains of Tata from Top 100 \")\n",
    "print(cth,\" Thursday's +ve gains of Tata from Top 100 \")\n",
    "print(cf,\" Friday's +ve gains of Tata from Top 100 \")\n",
    "print(csa,\" Saturday's +ve gains of Tata from Top 100 \")\n",
    "print(csu,\" Sunday's +ve gains of Tata from Top 100 \")\n",
    "\n",
    "        \n"
   ]
  },
  {
   "cell_type": "code",
   "execution_count": 16,
   "metadata": {},
   "outputs": [
    {
     "name": "stdout",
     "output_type": "stream",
     "text": [
      "14  Monday's have -ve gains of Tata from Top 100\n",
      "24  Tuesday's -ve gains of Tata from Top 100 \n",
      "17  Wednesday's -ve gains of Tata from Top 100 \n",
      "19  Thursday's -ve gains of Tata from Top 100 \n",
      "26  Friday's -ve gains of Tata from Top 100 \n",
      "0  Saturday's -ve gains of Tata from Top 100 \n",
      "0  Sunday's -ve gains of Tata from Top 100 \n"
     ]
    }
   ],
   "source": [
    "list1=ds8.nsmallest(100,'Tata %gain')\n",
    "lsub1=[]\n",
    "lsub1=list1['Day']\n",
    "cm=0\n",
    "ct=0\n",
    "cw=0\n",
    "cth=0\n",
    "cf=0\n",
    "csa=0\n",
    "csu=0\n",
    "for i in lsub1:\n",
    "    if(i=='Monday'):\n",
    "        cm=cm+1\n",
    "    elif(i=='Tuesday'):\n",
    "        ct=ct+1\n",
    "    elif(i=='Wednesday'):\n",
    "        cw=cw+1\n",
    "    elif(i=='Thursday'):\n",
    "        cth=cth+1\n",
    "    elif(i=='Friday'):\n",
    "        cf=cf+1\n",
    "    elif(i=='Saturday'):\n",
    "        csa=csa+1\n",
    "    elif(i=='Sunday'):\n",
    "        csu=csu+1\n",
    "print(cm,\" Monday's have -ve gains of Tata from Top 100\")\n",
    "print(ct,\" Tuesday's -ve gains of Tata from Top 100 \")\n",
    "print(cw,\" Wednesday's -ve gains of Tata from Top 100 \")\n",
    "print(cth,\" Thursday's -ve gains of Tata from Top 100 \")\n",
    "print(cf,\" Friday's -ve gains of Tata from Top 100 \")\n",
    "print(csa,\" Saturday's -ve gains of Tata from Top 100 \")\n",
    "print(csu,\" Sunday's -ve gains of Tata from Top 100 \")\n",
    "\n",
    "        \n"
   ]
  },
  {
   "cell_type": "code",
   "execution_count": 17,
   "metadata": {},
   "outputs": [
    {
     "data": {
      "text/html": [
       "<div>\n",
       "<style scoped>\n",
       "    .dataframe tbody tr th:only-of-type {\n",
       "        vertical-align: middle;\n",
       "    }\n",
       "\n",
       "    .dataframe tbody tr th {\n",
       "        vertical-align: top;\n",
       "    }\n",
       "\n",
       "    .dataframe thead th {\n",
       "        text-align: right;\n",
       "    }\n",
       "</style>\n",
       "<table border=\"1\" class=\"dataframe\">\n",
       "  <thead>\n",
       "    <tr style=\"text-align: right;\">\n",
       "      <th></th>\n",
       "      <th>Index</th>\n",
       "      <th>Date</th>\n",
       "      <th>Day</th>\n",
       "      <th>Tata Comm Open Price</th>\n",
       "      <th>Mtnl Open Price</th>\n",
       "      <th>Reliance Open Price</th>\n",
       "      <th>Airtel Open Price</th>\n",
       "      <th>Vodafone Open Price</th>\n",
       "      <th>Tata CommnHigh Price</th>\n",
       "      <th>Mtnl High Price</th>\n",
       "      <th>...</th>\n",
       "      <th>Mtnl No. of Trades</th>\n",
       "      <th>Reliance No. of Trades</th>\n",
       "      <th>Airtel No. of Trades</th>\n",
       "      <th>Vodafone No. of Trades</th>\n",
       "      <th>Tata %gain</th>\n",
       "      <th>Mtnl %gain</th>\n",
       "      <th>Reliance %gain</th>\n",
       "      <th>Airtel %gain</th>\n",
       "      <th>Vodafone %gain</th>\n",
       "      <th>BSE %gain</th>\n",
       "    </tr>\n",
       "  </thead>\n",
       "  <tbody>\n",
       "    <tr>\n",
       "      <th>202</th>\n",
       "      <td>202</td>\n",
       "      <td>12-Mar-20</td>\n",
       "      <td>Thursday</td>\n",
       "      <td>317.00</td>\n",
       "      <td>6.97</td>\n",
       "      <td>0.94</td>\n",
       "      <td>483.00</td>\n",
       "      <td>4.70</td>\n",
       "      <td>317.00</td>\n",
       "      <td>6.97</td>\n",
       "      <td>...</td>\n",
       "      <td>259</td>\n",
       "      <td>3040</td>\n",
       "      <td>9370</td>\n",
       "      <td>146634</td>\n",
       "      <td>-18.371919</td>\n",
       "      <td>-4.029851</td>\n",
       "      <td>-9.302326</td>\n",
       "      <td>-3.882138</td>\n",
       "      <td>-11.904762</td>\n",
       "      <td>-5.169177</td>\n",
       "    </tr>\n",
       "    <tr>\n",
       "      <th>1324</th>\n",
       "      <td>1324</td>\n",
       "      <td>24-Aug-15</td>\n",
       "      <td>Monday</td>\n",
       "      <td>415.00</td>\n",
       "      <td>16.75</td>\n",
       "      <td>58.20</td>\n",
       "      <td>362.00</td>\n",
       "      <td>150.00</td>\n",
       "      <td>415.00</td>\n",
       "      <td>16.75</td>\n",
       "      <td>...</td>\n",
       "      <td>1603</td>\n",
       "      <td>8719</td>\n",
       "      <td>8874</td>\n",
       "      <td>3043</td>\n",
       "      <td>-12.086428</td>\n",
       "      <td>-6.687898</td>\n",
       "      <td>-14.792899</td>\n",
       "      <td>-3.606182</td>\n",
       "      <td>-2.110279</td>\n",
       "      <td>0.446060</td>\n",
       "    </tr>\n",
       "    <tr>\n",
       "      <th>198</th>\n",
       "      <td>198</td>\n",
       "      <td>18-Mar-20</td>\n",
       "      <td>Wednesday</td>\n",
       "      <td>253.30</td>\n",
       "      <td>7.63</td>\n",
       "      <td>0.73</td>\n",
       "      <td>460.00</td>\n",
       "      <td>5.33</td>\n",
       "      <td>256.45</td>\n",
       "      <td>7.63</td>\n",
       "      <td>...</td>\n",
       "      <td>352</td>\n",
       "      <td>466</td>\n",
       "      <td>20811</td>\n",
       "      <td>211995</td>\n",
       "      <td>-12.079646</td>\n",
       "      <td>-10.419682</td>\n",
       "      <td>0.000000</td>\n",
       "      <td>-7.930549</td>\n",
       "      <td>-68.670886</td>\n",
       "      <td>-7.271790</td>\n",
       "    </tr>\n",
       "    <tr>\n",
       "      <th>2450</th>\n",
       "      <td>2450</td>\n",
       "      <td>10-Feb-11</td>\n",
       "      <td>Thursday</td>\n",
       "      <td>216.00</td>\n",
       "      <td>40.70</td>\n",
       "      <td>97.50</td>\n",
       "      <td>328.00</td>\n",
       "      <td>65.80</td>\n",
       "      <td>218.00</td>\n",
       "      <td>42.00</td>\n",
       "      <td>...</td>\n",
       "      <td>1988</td>\n",
       "      <td>53266</td>\n",
       "      <td>9646</td>\n",
       "      <td>9061</td>\n",
       "      <td>-9.923664</td>\n",
       "      <td>1.213592</td>\n",
       "      <td>-0.983946</td>\n",
       "      <td>-1.532271</td>\n",
       "      <td>-1.464919</td>\n",
       "      <td>1.181593</td>\n",
       "    </tr>\n",
       "    <tr>\n",
       "      <th>907</th>\n",
       "      <td>907</td>\n",
       "      <td>5-May-17</td>\n",
       "      <td>Friday</td>\n",
       "      <td>698.00</td>\n",
       "      <td>24.30</td>\n",
       "      <td>32.10</td>\n",
       "      <td>345.95</td>\n",
       "      <td>83.20</td>\n",
       "      <td>698.00</td>\n",
       "      <td>24.55</td>\n",
       "      <td>...</td>\n",
       "      <td>996</td>\n",
       "      <td>4081</td>\n",
       "      <td>1219</td>\n",
       "      <td>2443</td>\n",
       "      <td>-8.934842</td>\n",
       "      <td>-1.673640</td>\n",
       "      <td>-2.884615</td>\n",
       "      <td>-0.377194</td>\n",
       "      <td>-1.835985</td>\n",
       "      <td>0.036857</td>\n",
       "    </tr>\n",
       "    <tr>\n",
       "      <th>...</th>\n",
       "      <td>...</td>\n",
       "      <td>...</td>\n",
       "      <td>...</td>\n",
       "      <td>...</td>\n",
       "      <td>...</td>\n",
       "      <td>...</td>\n",
       "      <td>...</td>\n",
       "      <td>...</td>\n",
       "      <td>...</td>\n",
       "      <td>...</td>\n",
       "      <td>...</td>\n",
       "      <td>...</td>\n",
       "      <td>...</td>\n",
       "      <td>...</td>\n",
       "      <td>...</td>\n",
       "      <td>...</td>\n",
       "      <td>...</td>\n",
       "      <td>...</td>\n",
       "      <td>...</td>\n",
       "      <td>...</td>\n",
       "      <td>...</td>\n",
       "    </tr>\n",
       "    <tr>\n",
       "      <th>389</th>\n",
       "      <td>389</td>\n",
       "      <td>10-Jun-19</td>\n",
       "      <td>Monday</td>\n",
       "      <td>526.10</td>\n",
       "      <td>10.05</td>\n",
       "      <td>1.85</td>\n",
       "      <td>355.00</td>\n",
       "      <td>13.31</td>\n",
       "      <td>526.10</td>\n",
       "      <td>10.24</td>\n",
       "      <td>...</td>\n",
       "      <td>490</td>\n",
       "      <td>26215</td>\n",
       "      <td>1746</td>\n",
       "      <td>2399</td>\n",
       "      <td>-3.900464</td>\n",
       "      <td>-5.789474</td>\n",
       "      <td>-6.321839</td>\n",
       "      <td>2.055456</td>\n",
       "      <td>-4.228661</td>\n",
       "      <td>0.125180</td>\n",
       "    </tr>\n",
       "    <tr>\n",
       "      <th>1650</th>\n",
       "      <td>1650</td>\n",
       "      <td>29-Apr-14</td>\n",
       "      <td>Tuesday</td>\n",
       "      <td>307.75</td>\n",
       "      <td>18.80</td>\n",
       "      <td>132.20</td>\n",
       "      <td>339.60</td>\n",
       "      <td>144.25</td>\n",
       "      <td>308.20</td>\n",
       "      <td>19.20</td>\n",
       "      <td>...</td>\n",
       "      <td>3163</td>\n",
       "      <td>12085</td>\n",
       "      <td>13602</td>\n",
       "      <td>17869</td>\n",
       "      <td>-3.899392</td>\n",
       "      <td>-1.347709</td>\n",
       "      <td>-1.147666</td>\n",
       "      <td>-1.327764</td>\n",
       "      <td>-2.559545</td>\n",
       "      <td>-0.445316</td>\n",
       "    </tr>\n",
       "    <tr>\n",
       "      <th>1482</th>\n",
       "      <td>1482</td>\n",
       "      <td>6-Jan-15</td>\n",
       "      <td>Tuesday</td>\n",
       "      <td>433.00</td>\n",
       "      <td>27.30</td>\n",
       "      <td>82.00</td>\n",
       "      <td>357.20</td>\n",
       "      <td>154.40</td>\n",
       "      <td>433.90</td>\n",
       "      <td>28.15</td>\n",
       "      <td>...</td>\n",
       "      <td>6097</td>\n",
       "      <td>14478</td>\n",
       "      <td>15433</td>\n",
       "      <td>8115</td>\n",
       "      <td>-3.886756</td>\n",
       "      <td>-1.865672</td>\n",
       "      <td>-2.950408</td>\n",
       "      <td>-0.790068</td>\n",
       "      <td>-2.933333</td>\n",
       "      <td>-0.277270</td>\n",
       "    </tr>\n",
       "    <tr>\n",
       "      <th>1940</th>\n",
       "      <td>1940</td>\n",
       "      <td>25-Feb-13</td>\n",
       "      <td>Monday</td>\n",
       "      <td>231.70</td>\n",
       "      <td>23.65</td>\n",
       "      <td>71.05</td>\n",
       "      <td>307.80</td>\n",
       "      <td>115.00</td>\n",
       "      <td>231.70</td>\n",
       "      <td>24.70</td>\n",
       "      <td>...</td>\n",
       "      <td>2041</td>\n",
       "      <td>7817</td>\n",
       "      <td>5453</td>\n",
       "      <td>2644</td>\n",
       "      <td>-3.878054</td>\n",
       "      <td>3.469388</td>\n",
       "      <td>-2.599278</td>\n",
       "      <td>-0.244260</td>\n",
       "      <td>-1.054482</td>\n",
       "      <td>-1.448951</td>\n",
       "    </tr>\n",
       "    <tr>\n",
       "      <th>1227</th>\n",
       "      <td>1227</td>\n",
       "      <td>15-Jan-16</td>\n",
       "      <td>Friday</td>\n",
       "      <td>430.50</td>\n",
       "      <td>20.15</td>\n",
       "      <td>79.70</td>\n",
       "      <td>311.00</td>\n",
       "      <td>119.00</td>\n",
       "      <td>439.00</td>\n",
       "      <td>20.40</td>\n",
       "      <td>...</td>\n",
       "      <td>1741</td>\n",
       "      <td>8926</td>\n",
       "      <td>3659</td>\n",
       "      <td>7539</td>\n",
       "      <td>-3.860072</td>\n",
       "      <td>-6.332454</td>\n",
       "      <td>-9.103354</td>\n",
       "      <td>-1.534443</td>\n",
       "      <td>-5.543237</td>\n",
       "      <td>-0.878149</td>\n",
       "    </tr>\n",
       "  </tbody>\n",
       "</table>\n",
       "<p>100 rows × 34 columns</p>\n",
       "</div>"
      ],
      "text/plain": [
       "      Index       Date        Day  Tata Comm Open Price  Mtnl Open Price  \\\n",
       "202     202  12-Mar-20   Thursday                317.00             6.97   \n",
       "1324   1324  24-Aug-15     Monday                415.00            16.75   \n",
       "198     198  18-Mar-20  Wednesday                253.30             7.63   \n",
       "2450   2450  10-Feb-11   Thursday                216.00            40.70   \n",
       "907     907   5-May-17     Friday                698.00            24.30   \n",
       "...     ...        ...        ...                   ...              ...   \n",
       "389     389  10-Jun-19     Monday                526.10            10.05   \n",
       "1650   1650  29-Apr-14    Tuesday                307.75            18.80   \n",
       "1482   1482   6-Jan-15    Tuesday                433.00            27.30   \n",
       "1940   1940  25-Feb-13     Monday                231.70            23.65   \n",
       "1227   1227  15-Jan-16     Friday                430.50            20.15   \n",
       "\n",
       "      Reliance Open Price  Airtel Open Price  Vodafone Open Price  \\\n",
       "202                  0.94             483.00                 4.70   \n",
       "1324                58.20             362.00               150.00   \n",
       "198                  0.73             460.00                 5.33   \n",
       "2450                97.50             328.00                65.80   \n",
       "907                 32.10             345.95                83.20   \n",
       "...                   ...                ...                  ...   \n",
       "389                  1.85             355.00                13.31   \n",
       "1650               132.20             339.60               144.25   \n",
       "1482                82.00             357.20               154.40   \n",
       "1940                71.05             307.80               115.00   \n",
       "1227                79.70             311.00               119.00   \n",
       "\n",
       "      Tata CommnHigh Price  Mtnl High Price  ...  Mtnl No. of Trades  \\\n",
       "202                 317.00             6.97  ...                 259   \n",
       "1324                415.00            16.75  ...                1603   \n",
       "198                 256.45             7.63  ...                 352   \n",
       "2450                218.00            42.00  ...                1988   \n",
       "907                 698.00            24.55  ...                 996   \n",
       "...                    ...              ...  ...                 ...   \n",
       "389                 526.10            10.24  ...                 490   \n",
       "1650                308.20            19.20  ...                3163   \n",
       "1482                433.90            28.15  ...                6097   \n",
       "1940                231.70            24.70  ...                2041   \n",
       "1227                439.00            20.40  ...                1741   \n",
       "\n",
       "      Reliance No. of Trades  Airtel No. of Trades  Vodafone No. of Trades  \\\n",
       "202                     3040                  9370                  146634   \n",
       "1324                    8719                  8874                    3043   \n",
       "198                      466                 20811                  211995   \n",
       "2450                   53266                  9646                    9061   \n",
       "907                     4081                  1219                    2443   \n",
       "...                      ...                   ...                     ...   \n",
       "389                    26215                  1746                    2399   \n",
       "1650                   12085                 13602                   17869   \n",
       "1482                   14478                 15433                    8115   \n",
       "1940                    7817                  5453                    2644   \n",
       "1227                    8926                  3659                    7539   \n",
       "\n",
       "      Tata %gain  Mtnl %gain  Reliance %gain  Airtel %gain  Vodafone %gain  \\\n",
       "202   -18.371919   -4.029851       -9.302326     -3.882138      -11.904762   \n",
       "1324  -12.086428   -6.687898      -14.792899     -3.606182       -2.110279   \n",
       "198   -12.079646  -10.419682        0.000000     -7.930549      -68.670886   \n",
       "2450   -9.923664    1.213592       -0.983946     -1.532271       -1.464919   \n",
       "907    -8.934842   -1.673640       -2.884615     -0.377194       -1.835985   \n",
       "...          ...         ...             ...           ...             ...   \n",
       "389    -3.900464   -5.789474       -6.321839      2.055456       -4.228661   \n",
       "1650   -3.899392   -1.347709       -1.147666     -1.327764       -2.559545   \n",
       "1482   -3.886756   -1.865672       -2.950408     -0.790068       -2.933333   \n",
       "1940   -3.878054    3.469388       -2.599278     -0.244260       -1.054482   \n",
       "1227   -3.860072   -6.332454       -9.103354     -1.534443       -5.543237   \n",
       "\n",
       "      BSE %gain  \n",
       "202   -5.169177  \n",
       "1324   0.446060  \n",
       "198   -7.271790  \n",
       "2450   1.181593  \n",
       "907    0.036857  \n",
       "...         ...  \n",
       "389    0.125180  \n",
       "1650  -0.445316  \n",
       "1482  -0.277270  \n",
       "1940  -1.448951  \n",
       "1227  -0.878149  \n",
       "\n",
       "[100 rows x 34 columns]"
      ]
     },
     "execution_count": 17,
     "metadata": {},
     "output_type": "execute_result"
    }
   ],
   "source": [
    "k=ds8.nsmallest(100,'Tata %gain')\n",
    "list1"
   ]
  },
  {
   "cell_type": "markdown",
   "metadata": {},
   "source": [
    "### Tata End"
   ]
  },
  {
   "cell_type": "markdown",
   "metadata": {},
   "source": [
    "## Mtnl Start"
   ]
  },
  {
   "cell_type": "code",
   "execution_count": 220,
   "metadata": {},
   "outputs": [
    {
     "name": "stdout",
     "output_type": "stream",
     "text": [
      "170  Monday's have +ve gains of Mtnl \n",
      "162  Tuesday's +ve gains of Mtnl  \n",
      "183  Wednesday's +ve gains of Mtnl  \n",
      "161  Thursday's +ve gains of Mtnl  \n",
      "147  Friday's +ve gains of Mtnl  \n",
      "6  Saturday's +ve gains of Mtnl  \n",
      "1  Sunday's +ve gains of Mtnl  \n"
     ]
    }
   ],
   "source": [
    "ds8max=ds8[(ds8['Mtnl %gain'] > 0)]\n",
    "l1=[]\n",
    "l1=ds8max['Day']\n",
    "cm=0\n",
    "ct=0\n",
    "cw=0\n",
    "cth=0\n",
    "cf=0\n",
    "csa=0\n",
    "csu=0\n",
    "for i in l1:\n",
    "    if(i=='Monday'):\n",
    "        cm=cm+1\n",
    "    elif(i=='Tuesday'):\n",
    "        ct=ct+1\n",
    "    elif(i=='Wednesday'):\n",
    "        cw=cw+1\n",
    "    elif(i=='Thursday'):\n",
    "        cth=cth+1\n",
    "    elif(i=='Friday'):\n",
    "        cf=cf+1\n",
    "    elif(i=='Saturday'):\n",
    "        csa=csa+1\n",
    "    elif(i=='Sunday'):\n",
    "        csu=csu+1\n",
    "print(cm,\" Monday's have +ve gains of Mtnl \")\n",
    "print(ct,\" Tuesday's +ve gains of Mtnl  \")\n",
    "print(cw,\" Wednesday's +ve gains of Mtnl  \")\n",
    "print(cth,\" Thursday's +ve gains of Mtnl  \")\n",
    "print(cf,\" Friday's +ve gains of Mtnl  \")\n",
    "print(csa,\" Saturday's +ve gains of Mtnl  \")\n",
    "print(csu,\" Sunday's +ve gains of Mtnl  \")\n",
    "\n",
    "        "
   ]
  },
  {
   "cell_type": "code",
   "execution_count": 221,
   "metadata": {},
   "outputs": [
    {
     "name": "stdout",
     "output_type": "stream",
     "text": [
      "300  Monday's have -ve gains of Mtnl \n",
      "319  Tuesday's -ve gains of Mtnl  \n",
      "298  Wednesday's -ve gains of Mtnl  \n",
      "310  Thursday's -ve gains of Mtnl  \n",
      "319  Friday's -ve gains of Mtnl  \n",
      "3  Saturday's -ve gains of Mtnl  \n",
      "1  Sunday's -ve gains of Mtnl  \n"
     ]
    }
   ],
   "source": [
    "ds8max=ds8[(ds8['Mtnl %gain'] < 0)]\n",
    "l1=[]\n",
    "l1=ds8max['Day']\n",
    "cm=0\n",
    "ct=0\n",
    "cw=0\n",
    "cth=0\n",
    "cf=0\n",
    "csa=0\n",
    "csu=0\n",
    "for i in l1:\n",
    "    if(i=='Monday'):\n",
    "        cm=cm+1\n",
    "    elif(i=='Tuesday'):\n",
    "        ct=ct+1\n",
    "    elif(i=='Wednesday'):\n",
    "        cw=cw+1\n",
    "    elif(i=='Thursday'):\n",
    "        cth=cth+1\n",
    "    elif(i=='Friday'):\n",
    "        cf=cf+1\n",
    "    elif(i=='Saturday'):\n",
    "        csa=csa+1\n",
    "    elif(i=='Sunday'):\n",
    "        csu=csu+1\n",
    "print(cm,\" Monday's have -ve gains of Mtnl \")\n",
    "print(ct,\" Tuesday's -ve gains of Mtnl  \")\n",
    "print(cw,\" Wednesday's -ve gains of Mtnl  \")\n",
    "print(cth,\" Thursday's -ve gains of Mtnl  \")\n",
    "print(cf,\" Friday's -ve gains of Mtnl  \")\n",
    "print(csa,\" Saturday's -ve gains of Mtnl  \")\n",
    "print(csu,\" Sunday's -ve gains of Mtnl  \")\n",
    "\n",
    "        "
   ]
  },
  {
   "cell_type": "code",
   "execution_count": 222,
   "metadata": {},
   "outputs": [
    {
     "name": "stdout",
     "output_type": "stream",
     "text": [
      "20  Monday's have +ve gains of Mtnl from Top 100\n",
      "18  Tuesday's +ve gains of Mtnl from Top 100 \n",
      "21  Wednesday's +ve gains of Mtnl from Top 100 \n",
      "23  Thursday's +ve gains of Mtnl from Top 100 \n",
      "18  Friday's +ve gains of Mtnl from Top 100 \n",
      "0  Saturday's +ve gains of Mtnl from Top 100 \n",
      "0  Sunday's +ve gains of Mtnl from Top 100 \n"
     ]
    }
   ],
   "source": [
    "list1=ds8.nlargest(100,'Mtnl %gain')\n",
    "lsub1=[]\n",
    "lsub1=list1['Day']\n",
    "cm=0\n",
    "ct=0\n",
    "cw=0\n",
    "cth=0\n",
    "cf=0\n",
    "csa=0\n",
    "csu=0\n",
    "for i in lsub1:\n",
    "    if(i=='Monday'):\n",
    "        cm=cm+1\n",
    "    elif(i=='Tuesday'):\n",
    "        ct=ct+1\n",
    "    elif(i=='Wednesday'):\n",
    "        cw=cw+1\n",
    "    elif(i=='Thursday'):\n",
    "        cth=cth+1\n",
    "    elif(i=='Friday'):\n",
    "        cf=cf+1\n",
    "    elif(i=='Saturday'):\n",
    "        csa=csa+1\n",
    "    elif(i=='Sunday'):\n",
    "        csu=csu+1\n",
    "print(cm,\" Monday's have +ve gains of Mtnl from Top 100\")\n",
    "print(ct,\" Tuesday's +ve gains of Mtnl from Top 100 \")\n",
    "print(cw,\" Wednesday's +ve gains of Mtnl from Top 100 \")\n",
    "print(cth,\" Thursday's +ve gains of Mtnl from Top 100 \")\n",
    "print(cf,\" Friday's +ve gains of Mtnl from Top 100 \")\n",
    "print(csa,\" Saturday's +ve gains of Mtnl from Top 100 \")\n",
    "print(csu,\" Sunday's +ve gains of Mtnl from Top 100 \")\n",
    "        \n"
   ]
  },
  {
   "cell_type": "code",
   "execution_count": 223,
   "metadata": {},
   "outputs": [
    {
     "name": "stdout",
     "output_type": "stream",
     "text": [
      "23  Monday's have -ve gains of Mtnl from Top 100\n",
      "23  Tuesday's -ve gains of Mtnl from Top 100 \n",
      "18  Wednesday's -ve gains of Mtnl from Top 100 \n",
      "16  Thursday's -ve gains of Mtnl from Top 100 \n",
      "20  Friday's -ve gains of Mtnl from Top 100 \n",
      "0  Saturday's -ve gains of Mtnl from Top 100 \n",
      "0  Sunday's -ve gains of Mtnl from Top 100 \n"
     ]
    }
   ],
   "source": [
    "list1=ds8.nsmallest(100,'Mtnl %gain')\n",
    "lsub1=[]\n",
    "lsub1=list1['Day']\n",
    "cm=0\n",
    "ct=0\n",
    "cw=0\n",
    "cth=0\n",
    "cf=0\n",
    "csa=0\n",
    "csu=0\n",
    "for i in lsub1:\n",
    "    if(i=='Monday'):\n",
    "        cm=cm+1\n",
    "    elif(i=='Tuesday'):\n",
    "        ct=ct+1\n",
    "    elif(i=='Wednesday'):\n",
    "        cw=cw+1\n",
    "    elif(i=='Thursday'):\n",
    "        cth=cth+1\n",
    "    elif(i=='Friday'):\n",
    "        cf=cf+1\n",
    "    elif(i=='Saturday'):\n",
    "        csa=csa+1\n",
    "    elif(i=='Sunday'):\n",
    "        csu=csu+1\n",
    "print(cm,\" Monday's have -ve gains of Mtnl from Top 100\")\n",
    "print(ct,\" Tuesday's -ve gains of Mtnl from Top 100 \")\n",
    "print(cw,\" Wednesday's -ve gains of Mtnl from Top 100 \")\n",
    "print(cth,\" Thursday's -ve gains of Mtnl from Top 100 \")\n",
    "print(cf,\" Friday's -ve gains of Mtnl from Top 100 \")\n",
    "print(csa,\" Saturday's -ve gains of Mtnl from Top 100 \")\n",
    "print(csu,\" Sunday's -ve gains of Mtnl from Top 100 \")\n",
    "        \n"
   ]
  },
  {
   "cell_type": "markdown",
   "metadata": {},
   "source": [
    "### Mtnl END"
   ]
  },
  {
   "cell_type": "markdown",
   "metadata": {},
   "source": [
    "### Reliance Start"
   ]
  },
  {
   "cell_type": "code",
   "execution_count": 224,
   "metadata": {},
   "outputs": [
    {
     "name": "stdout",
     "output_type": "stream",
     "text": [
      "181  Monday's have +ve gains of Reliance \n",
      "201  Tuesday's +ve gains of Reliance  \n",
      "188  Wednesday's +ve gains of Reliance  \n",
      "187  Thursday's +ve gains of Reliance  \n",
      "201  Friday's +ve gains of Reliance  \n",
      "5  Saturday's +ve gains of Reliance  \n",
      "1  Sunday's +ve gains of Reliance  \n"
     ]
    }
   ],
   "source": [
    "ds8max=ds8[(ds8['Reliance %gain'] > 0)]\n",
    "l1=[]\n",
    "l1=ds8max['Day']\n",
    "cm=0\n",
    "ct=0\n",
    "cw=0\n",
    "cth=0\n",
    "cf=0\n",
    "csa=0\n",
    "csu=0\n",
    "for i in l1:\n",
    "    if(i=='Monday'):\n",
    "        cm=cm+1\n",
    "    elif(i=='Tuesday'):\n",
    "        ct=ct+1\n",
    "    elif(i=='Wednesday'):\n",
    "        cw=cw+1\n",
    "    elif(i=='Thursday'):\n",
    "        cth=cth+1\n",
    "    elif(i=='Friday'):\n",
    "        cf=cf+1\n",
    "    elif(i=='Saturday'):\n",
    "        csa=csa+1\n",
    "    elif(i=='Sunday'):\n",
    "        csu=csu+1\n",
    "print(cm,\" Monday's have +ve gains of Reliance \")\n",
    "print(ct,\" Tuesday's +ve gains of Reliance  \")\n",
    "print(cw,\" Wednesday's +ve gains of Reliance  \")\n",
    "print(cth,\" Thursday's +ve gains of Reliance  \")\n",
    "print(cf,\" Friday's +ve gains of Reliance  \")\n",
    "print(csa,\" Saturday's +ve gains of Reliance  \")\n",
    "print(csu,\" Sunday's +ve gains of Reliance  \")\n",
    "\n",
    "        "
   ]
  },
  {
   "cell_type": "code",
   "execution_count": 225,
   "metadata": {},
   "outputs": [
    {
     "name": "stdout",
     "output_type": "stream",
     "text": [
      "266  Monday's have -ve gains of Reliance \n",
      "253  Tuesday's -ve gains of Reliance  \n",
      "261  Wednesday's -ve gains of Reliance  \n",
      "261  Thursday's -ve gains of Reliance  \n",
      "255  Friday's -ve gains of Reliance  \n",
      "3  Saturday's -ve gains of Reliance  \n",
      "2  Sunday's -ve gains of Reliance  \n"
     ]
    }
   ],
   "source": [
    "ds8max=ds8[(ds8['Reliance %gain'] < 0)]\n",
    "l1=[]\n",
    "l1=ds8max['Day']\n",
    "cm=0\n",
    "ct=0\n",
    "cw=0\n",
    "cth=0\n",
    "cf=0\n",
    "csa=0\n",
    "csu=0\n",
    "for i in l1:\n",
    "    if(i=='Monday'):\n",
    "        cm=cm+1\n",
    "    elif(i=='Tuesday'):\n",
    "        ct=ct+1\n",
    "    elif(i=='Wednesday'):\n",
    "        cw=cw+1\n",
    "    elif(i=='Thursday'):\n",
    "        cth=cth+1\n",
    "    elif(i=='Friday'):\n",
    "        cf=cf+1\n",
    "    elif(i=='Saturday'):\n",
    "        csa=csa+1\n",
    "    elif(i=='Sunday'):\n",
    "        csu=csu+1\n",
    "print(cm,\" Monday's have -ve gains of Reliance \")\n",
    "print(ct,\" Tuesday's -ve gains of Reliance  \")\n",
    "print(cw,\" Wednesday's -ve gains of Reliance  \")\n",
    "print(cth,\" Thursday's -ve gains of Reliance  \")\n",
    "print(cf,\" Friday's -ve gains of Reliance  \")\n",
    "print(csa,\" Saturday's -ve gains of Reliance  \")\n",
    "print(csu,\" Sunday's -ve gains of Reliance  \")\n",
    "\n",
    "        "
   ]
  },
  {
   "cell_type": "code",
   "execution_count": 226,
   "metadata": {},
   "outputs": [
    {
     "name": "stdout",
     "output_type": "stream",
     "text": [
      "19  Monday's have +ve gains of Reliance from Top 100\n",
      "21  Tuesday's +ve gains of Reliance from Top 100 \n",
      "18  Wednesday's +ve gains of Reliance from Top 100 \n",
      "18  Thursday's +ve gains of Reliance from Top 100 \n",
      "24  Friday's +ve gains of Reliance from Top 100 \n",
      "0  Saturday's +ve gains of Reliance from Top 100 \n",
      "0  Sunday's +ve gains of Reliance from Top 100 \n"
     ]
    }
   ],
   "source": [
    "list1=ds8.nlargest(100,'Reliance %gain')\n",
    "lsub1=[]\n",
    "lsub1=list1['Day']\n",
    "cm=0\n",
    "ct=0\n",
    "cw=0\n",
    "cth=0\n",
    "cf=0\n",
    "csa=0\n",
    "csu=0\n",
    "for i in lsub1:\n",
    "    if(i=='Monday'):\n",
    "        cm=cm+1\n",
    "    elif(i=='Tuesday'):\n",
    "        ct=ct+1\n",
    "    elif(i=='Wednesday'):\n",
    "        cw=cw+1\n",
    "    elif(i=='Thursday'):\n",
    "        cth=cth+1\n",
    "    elif(i=='Friday'):\n",
    "        cf=cf+1\n",
    "    elif(i=='Saturday'):\n",
    "        csa=csa+1\n",
    "    elif(i=='Sunday'):\n",
    "        csu=csu+1\n",
    "print(cm,\" Monday's have +ve gains of Reliance from Top 100\")\n",
    "print(ct,\" Tuesday's +ve gains of Reliance from Top 100 \")\n",
    "print(cw,\" Wednesday's +ve gains of Reliance from Top 100 \")\n",
    "print(cth,\" Thursday's +ve gains of Reliance from Top 100 \")\n",
    "print(cf,\" Friday's +ve gains of Reliance from Top 100 \")\n",
    "print(csa,\" Saturday's +ve gains of Reliance from Top 100 \")\n",
    "print(csu,\" Sunday's +ve gains of Reliance from Top 100 \")\n",
    "        \n"
   ]
  },
  {
   "cell_type": "code",
   "execution_count": 227,
   "metadata": {},
   "outputs": [
    {
     "name": "stdout",
     "output_type": "stream",
     "text": [
      "21  Monday's have -ve gains of Reliance from Top 100\n",
      "18  Tuesday's -ve gains of Reliance from Top 100 \n",
      "24  Wednesday's -ve gains of Reliance from Top 100 \n",
      "19  Thursday's -ve gains of Reliance from Top 100 \n",
      "18  Friday's -ve gains of Reliance from Top 100 \n",
      "0  Saturday's -ve gains of Reliance from Top 100 \n",
      "0  Sunday's -ve gains of Reliance from Top 100 \n"
     ]
    }
   ],
   "source": [
    "list1=ds8.nsmallest(100,'Reliance %gain')\n",
    "lsub1=[]\n",
    "lsub1=list1['Day']\n",
    "cm=0\n",
    "ct=0\n",
    "cw=0\n",
    "cth=0\n",
    "cf=0\n",
    "csa=0\n",
    "csu=0\n",
    "for i in lsub1:\n",
    "    if(i=='Monday'):\n",
    "        cm=cm+1\n",
    "    elif(i=='Tuesday'):\n",
    "        ct=ct+1\n",
    "    elif(i=='Wednesday'):\n",
    "        cw=cw+1\n",
    "    elif(i=='Thursday'):\n",
    "        cth=cth+1\n",
    "    elif(i=='Friday'):\n",
    "        cf=cf+1\n",
    "    elif(i=='Saturday'):\n",
    "        csa=csa+1\n",
    "    elif(i=='Sunday'):\n",
    "        csu=csu+1\n",
    "print(cm,\" Monday's have -ve gains of Reliance from Top 100\")\n",
    "print(ct,\" Tuesday's -ve gains of Reliance from Top 100 \")\n",
    "print(cw,\" Wednesday's -ve gains of Reliance from Top 100 \")\n",
    "print(cth,\" Thursday's -ve gains of Reliance from Top 100 \")\n",
    "print(cf,\" Friday's -ve gains of Reliance from Top 100 \")\n",
    "print(csa,\" Saturday's -ve gains of Reliance from Top 100 \")\n",
    "print(csu,\" Sunday's -ve gains of Reliance from Top 100 \")\n",
    "        \n"
   ]
  },
  {
   "cell_type": "markdown",
   "metadata": {},
   "source": [
    "### Reliance End"
   ]
  },
  {
   "cell_type": "markdown",
   "metadata": {},
   "source": [
    "### Airtel Start"
   ]
  },
  {
   "cell_type": "code",
   "execution_count": 228,
   "metadata": {},
   "outputs": [
    {
     "name": "stdout",
     "output_type": "stream",
     "text": [
      "217  Monday's have +ve gains of Airtel \n",
      "232  Tuesday's +ve gains of Airtel  \n",
      "205  Wednesday's +ve gains of Airtel  \n",
      "218  Thursday's +ve gains of Airtel  \n",
      "222  Friday's +ve gains of Airtel  \n",
      "3  Saturday's +ve gains of Airtel  \n",
      "0  Sunday's +ve gains of Airtel  \n"
     ]
    }
   ],
   "source": [
    "ds8max=ds8[(ds8['Airtel %gain'] > 0)]\n",
    "l1=[]\n",
    "l1=ds8max['Day']\n",
    "cm=0\n",
    "ct=0\n",
    "cw=0\n",
    "cth=0\n",
    "cf=0\n",
    "csa=0\n",
    "csu=0\n",
    "for i in l1:\n",
    "    if(i=='Monday'):\n",
    "        cm=cm+1\n",
    "    elif(i=='Tuesday'):\n",
    "        ct=ct+1\n",
    "    elif(i=='Wednesday'):\n",
    "        cw=cw+1\n",
    "    elif(i=='Thursday'):\n",
    "        cth=cth+1\n",
    "    elif(i=='Friday'):\n",
    "        cf=cf+1\n",
    "    elif(i=='Saturday'):\n",
    "        csa=csa+1\n",
    "    elif(i=='Sunday'):\n",
    "        csu=csu+1\n",
    "print(cm,\" Monday's have +ve gains of Airtel \")\n",
    "print(ct,\" Tuesday's +ve gains of Airtel  \")\n",
    "print(cw,\" Wednesday's +ve gains of Airtel  \")\n",
    "print(cth,\" Thursday's +ve gains of Airtel  \")\n",
    "print(cf,\" Friday's +ve gains of Airtel  \")\n",
    "print(csa,\" Saturday's +ve gains of Airtel  \")\n",
    "print(csu,\" Sunday's +ve gains of Airtel  \")\n",
    "\n",
    "        "
   ]
  },
  {
   "cell_type": "code",
   "execution_count": 229,
   "metadata": {},
   "outputs": [
    {
     "name": "stdout",
     "output_type": "stream",
     "text": [
      "275  Monday's have -ve gains of Airtel \n",
      "264  Tuesday's -ve gains of Airtel  \n",
      "290  Wednesday's -ve gains of Airtel  \n",
      "268  Thursday's -ve gains of Airtel  \n",
      "263  Friday's -ve gains of Airtel  \n",
      "6  Saturday's -ve gains of Airtel  \n",
      "3  Sunday's -ve gains of Airtel  \n"
     ]
    }
   ],
   "source": [
    "ds8max=ds8[(ds8['Airtel %gain'] < 0)]\n",
    "l1=[]\n",
    "l1=ds8max['Day']\n",
    "cm=0\n",
    "ct=0\n",
    "cw=0\n",
    "cth=0\n",
    "cf=0\n",
    "csa=0\n",
    "csu=0\n",
    "for i in l1:\n",
    "    if(i=='Monday'):\n",
    "        cm=cm+1\n",
    "    elif(i=='Tuesday'):\n",
    "        ct=ct+1\n",
    "    elif(i=='Wednesday'):\n",
    "        cw=cw+1\n",
    "    elif(i=='Thursday'):\n",
    "        cth=cth+1\n",
    "    elif(i=='Friday'):\n",
    "        cf=cf+1\n",
    "    elif(i=='Saturday'):\n",
    "        csa=csa+1\n",
    "    elif(i=='Sunday'):\n",
    "        csu=csu+1\n",
    "print(cm,\" Monday's have -ve gains of Airtel \")\n",
    "print(ct,\" Tuesday's -ve gains of Airtel  \")\n",
    "print(cw,\" Wednesday's -ve gains of Airtel  \")\n",
    "print(cth,\" Thursday's -ve gains of Airtel  \")\n",
    "print(cf,\" Friday's -ve gains of Airtel  \")\n",
    "print(csa,\" Saturday's -ve gains of Airtel  \")\n",
    "print(csu,\" Sunday's -ve gains of Airtel  \")\n",
    "        "
   ]
  },
  {
   "cell_type": "code",
   "execution_count": 230,
   "metadata": {},
   "outputs": [
    {
     "name": "stdout",
     "output_type": "stream",
     "text": [
      "23  Monday's have +ve gains of Airtel from Top 100\n",
      "21  Tuesday's +ve gains of Airtel from Top 100 \n",
      "19  Wednesday's +ve gains of Airtel from Top 100 \n",
      "17  Thursday's +ve gains of Airtel from Top 100 \n",
      "20  Friday's +ve gains of Airtel from Top 100 \n",
      "0  Saturday's +ve gains of Airtel from Top 100 \n",
      "0  Sunday's +ve gains of Airtel from Top 100 \n"
     ]
    }
   ],
   "source": [
    "list1=ds8.nlargest(100,'Airtel %gain')\n",
    "lsub1=[]\n",
    "lsub1=list1['Day']\n",
    "cm=0\n",
    "ct=0\n",
    "cw=0\n",
    "cth=0\n",
    "cf=0\n",
    "csa=0\n",
    "csu=0\n",
    "for i in lsub1:\n",
    "    if(i=='Monday'):\n",
    "        cm=cm+1\n",
    "    elif(i=='Tuesday'):\n",
    "        ct=ct+1\n",
    "    elif(i=='Wednesday'):\n",
    "        cw=cw+1\n",
    "    elif(i=='Thursday'):\n",
    "        cth=cth+1\n",
    "    elif(i=='Friday'):\n",
    "        cf=cf+1\n",
    "    elif(i=='Saturday'):\n",
    "        csa=csa+1\n",
    "    elif(i=='Sunday'):\n",
    "        csu=csu+1\n",
    "print(cm,\" Monday's have +ve gains of Airtel from Top 100\")\n",
    "print(ct,\" Tuesday's +ve gains of Airtel from Top 100 \")\n",
    "print(cw,\" Wednesday's +ve gains of Airtel from Top 100 \")\n",
    "print(cth,\" Thursday's +ve gains of Airtel from Top 100 \")\n",
    "print(cf,\" Friday's +ve gains of Airtel from Top 100 \")\n",
    "print(csa,\" Saturday's +ve gains of Airtel from Top 100 \")\n",
    "print(csu,\" Sunday's +ve gains of Airtel from Top 100 \")\n",
    "        \n"
   ]
  },
  {
   "cell_type": "code",
   "execution_count": 231,
   "metadata": {},
   "outputs": [
    {
     "name": "stdout",
     "output_type": "stream",
     "text": [
      "22  Monday's have -ve gains of Airtel from Top 100\n",
      "18  Tuesday's -ve gains of Airtel from Top 100 \n",
      "22  Wednesday's -ve gains of Airtel from Top 100 \n",
      "17  Thursday's -ve gains of Airtel from Top 100 \n",
      "21  Friday's -ve gains of Airtel from Top 100 \n",
      "0  Saturday's -ve gains of Airtel from Top 100 \n",
      "0  Sunday's -ve gains of Airtel from Top 100 \n"
     ]
    }
   ],
   "source": [
    "list1=ds8.nsmallest(100,'Airtel %gain')\n",
    "lsub1=[]\n",
    "lsub1=list1['Day']\n",
    "cm=0\n",
    "ct=0\n",
    "cw=0\n",
    "cth=0\n",
    "cf=0\n",
    "csa=0\n",
    "csu=0\n",
    "for i in lsub1:\n",
    "    if(i=='Monday'):\n",
    "        cm=cm+1\n",
    "    elif(i=='Tuesday'):\n",
    "        ct=ct+1\n",
    "    elif(i=='Wednesday'):\n",
    "        cw=cw+1\n",
    "    elif(i=='Thursday'):\n",
    "        cth=cth+1\n",
    "    elif(i=='Friday'):\n",
    "        cf=cf+1\n",
    "    elif(i=='Saturday'):\n",
    "        csa=csa+1\n",
    "    elif(i=='Sunday'):\n",
    "        csu=csu+1\n",
    "print(cm,\" Monday's have -ve gains of Airtel from Top 100\")\n",
    "print(ct,\" Tuesday's -ve gains of Airtel from Top 100 \")\n",
    "print(cw,\" Wednesday's -ve gains of Airtel from Top 100 \")\n",
    "print(cth,\" Thursday's -ve gains of Airtel from Top 100 \")\n",
    "print(cf,\" Friday's -ve gains of Airtel from Top 100 \")\n",
    "print(csa,\" Saturday's -ve gains of Airtel from Top 100 \")\n",
    "print(csu,\" Sunday's -ve gains of Airtel from Top 100 \")\n",
    "        \n"
   ]
  },
  {
   "cell_type": "markdown",
   "metadata": {},
   "source": [
    "## Airtel End"
   ]
  },
  {
   "cell_type": "markdown",
   "metadata": {},
   "source": [
    "### Vodafone Start"
   ]
  },
  {
   "cell_type": "code",
   "execution_count": 232,
   "metadata": {},
   "outputs": [
    {
     "name": "stdout",
     "output_type": "stream",
     "text": [
      "225  Monday's have +ve gains of Vodafone \n",
      "199  Tuesday's +ve gains of Vodafone  \n",
      "204  Wednesday's +ve gains of Vodafone  \n",
      "220  Thursday's +ve gains of Vodafone  \n",
      "213  Friday's +ve gains of Vodafone  \n",
      "3  Saturday's +ve gains of Vodafone  \n",
      "1  Sunday's +ve gains of Vodafone  \n"
     ]
    }
   ],
   "source": [
    "ds8max=ds8[(ds8['Vodafone %gain'] > 0)]\n",
    "l1=[]\n",
    "l1=ds8max['Day']\n",
    "cm=0\n",
    "ct=0\n",
    "cw=0\n",
    "cth=0\n",
    "cf=0\n",
    "csa=0\n",
    "csu=0\n",
    "for i in l1:\n",
    "    if(i=='Monday'):\n",
    "        cm=cm+1\n",
    "    elif(i=='Tuesday'):\n",
    "        ct=ct+1\n",
    "    elif(i=='Wednesday'):\n",
    "        cw=cw+1\n",
    "    elif(i=='Thursday'):\n",
    "        cth=cth+1\n",
    "    elif(i=='Friday'):\n",
    "        cf=cf+1\n",
    "    elif(i=='Saturday'):\n",
    "        csa=csa+1\n",
    "    elif(i=='Sunday'):\n",
    "        csu=csu+1\n",
    "print(cm,\" Monday's have +ve gains of Vodafone \")\n",
    "print(ct,\" Tuesday's +ve gains of Vodafone  \")\n",
    "print(cw,\" Wednesday's +ve gains of Vodafone  \")\n",
    "print(cth,\" Thursday's +ve gains of Vodafone  \")\n",
    "print(cf,\" Friday's +ve gains of Vodafone  \")\n",
    "print(csa,\" Saturday's +ve gains of Vodafone  \")\n",
    "print(csu,\" Sunday's +ve gains of Vodafone  \")\n",
    "\n",
    "        "
   ]
  },
  {
   "cell_type": "code",
   "execution_count": 233,
   "metadata": {},
   "outputs": [
    {
     "name": "stdout",
     "output_type": "stream",
     "text": [
      "262  Monday's have -ve gains of Vodafone \n",
      "291  Tuesday's -ve gains of Vodafone  \n",
      "287  Wednesday's -ve gains of Vodafone  \n",
      "264  Thursday's -ve gains of Vodafone  \n",
      "269  Friday's -ve gains of Vodafone  \n",
      "6  Saturday's -ve gains of Vodafone  \n",
      "2  Sunday's -ve gains of Vodafone  \n"
     ]
    }
   ],
   "source": [
    "ds8max=ds8[(ds8['Vodafone %gain'] < 0)]\n",
    "l1=[]\n",
    "l1=ds8max['Day']\n",
    "cm=0\n",
    "ct=0\n",
    "cw=0\n",
    "cth=0\n",
    "cf=0\n",
    "csa=0\n",
    "csu=0\n",
    "for i in l1:\n",
    "    if(i=='Monday'):\n",
    "        cm=cm+1\n",
    "    elif(i=='Tuesday'):\n",
    "        ct=ct+1\n",
    "    elif(i=='Wednesday'):\n",
    "        cw=cw+1\n",
    "    elif(i=='Thursday'):\n",
    "        cth=cth+1\n",
    "    elif(i=='Friday'):\n",
    "        cf=cf+1\n",
    "    elif(i=='Saturday'):\n",
    "        csa=csa+1\n",
    "    elif(i=='Sunday'):\n",
    "        csu=csu+1\n",
    "print(cm,\" Monday's have -ve gains of Vodafone \")\n",
    "print(ct,\" Tuesday's -ve gains of Vodafone  \")\n",
    "print(cw,\" Wednesday's -ve gains of Vodafone  \")\n",
    "print(cth,\" Thursday's -ve gains of Vodafone  \")\n",
    "print(cf,\" Friday's -ve gains of Vodafone  \")\n",
    "print(csa,\" Saturday's -ve gains of Vodafone  \")\n",
    "print(csu,\" Sunday's -ve gains of Vodafone  \")\n",
    "\n",
    "        "
   ]
  },
  {
   "cell_type": "code",
   "execution_count": 234,
   "metadata": {},
   "outputs": [
    {
     "name": "stdout",
     "output_type": "stream",
     "text": [
      "24  Monday's have +ve gains of Vodafone from Top 100\n",
      "16  Tuesday's +ve gains of Vodafone from Top 100 \n",
      "20  Wednesday's +ve gains of Vodafone from Top 100 \n",
      "13  Thursday's +ve gains of Vodafone from Top 100 \n",
      "27  Friday's +ve gains of Vodafone from Top 100 \n",
      "0  Saturday's +ve gains of Vodafone from Top 100 \n",
      "0  Sunday's +ve gains of Vodafone from Top 100 \n"
     ]
    }
   ],
   "source": [
    "list1=ds8.nlargest(100,'Vodafone %gain')\n",
    "lsub1=[]\n",
    "lsub1=list1['Day']\n",
    "cm=0\n",
    "ct=0\n",
    "cw=0\n",
    "cth=0\n",
    "cf=0\n",
    "csa=0\n",
    "csu=0\n",
    "for i in lsub1:\n",
    "    if(i=='Monday'):\n",
    "        cm=cm+1\n",
    "    elif(i=='Tuesday'):\n",
    "        ct=ct+1\n",
    "    elif(i=='Wednesday'):\n",
    "        cw=cw+1\n",
    "    elif(i=='Thursday'):\n",
    "        cth=cth+1\n",
    "    elif(i=='Friday'):\n",
    "        cf=cf+1\n",
    "    elif(i=='Saturday'):\n",
    "        csa=csa+1\n",
    "    elif(i=='Sunday'):\n",
    "        csu=csu+1\n",
    "print(cm,\" Monday's have +ve gains of Vodafone from Top 100\")\n",
    "print(ct,\" Tuesday's +ve gains of Vodafone from Top 100 \")\n",
    "print(cw,\" Wednesday's +ve gains of Vodafone from Top 100 \")\n",
    "print(cth,\" Thursday's +ve gains of Vodafone from Top 100 \")\n",
    "print(cf,\" Friday's +ve gains of Vodafone from Top 100 \")\n",
    "print(csa,\" Saturday's +ve gains of Vodafone from Top 100 \")\n",
    "print(csu,\" Sunday's +ve gains of Vodafone from Top 100 \")\n",
    "        \n"
   ]
  },
  {
   "cell_type": "code",
   "execution_count": 235,
   "metadata": {},
   "outputs": [
    {
     "name": "stdout",
     "output_type": "stream",
     "text": [
      "21  Monday's have -ve gains of Vodafone from Top 100\n",
      "23  Tuesday's -ve gains of Vodafone from Top 100 \n",
      "24  Wednesday's -ve gains of Vodafone from Top 100 \n",
      "17  Thursday's -ve gains of Vodafone from Top 100 \n",
      "14  Friday's -ve gains of Vodafone from Top 100 \n",
      "1  Saturday's -ve gains of Vodafone from Top 100 \n",
      "0  Sunday's -ve gains of Vodafone from Top 100 \n"
     ]
    }
   ],
   "source": [
    "list1=ds8.nsmallest(100,'Vodafone %gain')\n",
    "lsub1=[]\n",
    "lsub1=list1['Day']\n",
    "cm=0\n",
    "ct=0\n",
    "cw=0\n",
    "cth=0\n",
    "cf=0\n",
    "csa=0\n",
    "csu=0\n",
    "for i in lsub1:\n",
    "    if(i=='Monday'):\n",
    "        cm=cm+1\n",
    "    elif(i=='Tuesday'):\n",
    "        ct=ct+1\n",
    "    elif(i=='Wednesday'):\n",
    "        cw=cw+1\n",
    "    elif(i=='Thursday'):\n",
    "        cth=cth+1\n",
    "    elif(i=='Friday'):\n",
    "        cf=cf+1\n",
    "    elif(i=='Saturday'):\n",
    "        csa=csa+1\n",
    "    elif(i=='Sunday'):\n",
    "        csu=csu+1\n",
    "print(cm,\" Monday's have -ve gains of Vodafone from Top 100\")\n",
    "print(ct,\" Tuesday's -ve gains of Vodafone from Top 100 \")\n",
    "print(cw,\" Wednesday's -ve gains of Vodafone from Top 100 \")\n",
    "print(cth,\" Thursday's -ve gains of Vodafone from Top 100 \")\n",
    "print(cf,\" Friday's -ve gains of Vodafone from Top 100 \")\n",
    "print(csa,\" Saturday's -ve gains of Vodafone from Top 100 \")\n",
    "print(csu,\" Sunday's -ve gains of Vodafone from Top 100 \")\n",
    "        \n"
   ]
  },
  {
   "cell_type": "markdown",
   "metadata": {},
   "source": [
    "### Vodafone END"
   ]
  },
  {
   "cell_type": "markdown",
   "metadata": {},
   "source": [
    "### BSE Market Start"
   ]
  },
  {
   "cell_type": "code",
   "execution_count": 236,
   "metadata": {},
   "outputs": [
    {
     "name": "stdout",
     "output_type": "stream",
     "text": [
      "213  Monday's have +ve gains of BSE \n",
      "214  Tuesday's +ve gains of BSE  \n",
      "225  Wednesday's +ve gains of BSE  \n",
      "224  Thursday's +ve gains of BSE  \n",
      "223  Friday's +ve gains of BSE  \n",
      "2  Saturday's +ve gains of BSE  \n",
      "0  Sunday's +ve gains of BSE  \n"
     ]
    }
   ],
   "source": [
    "ds8max=ds8[(ds8['BSE %gain'] > 0)]\n",
    "l1=[]\n",
    "l1=ds8max['Day']\n",
    "cm=0\n",
    "ct=0\n",
    "cw=0\n",
    "cth=0\n",
    "cf=0\n",
    "csa=0\n",
    "csu=0\n",
    "for i in l1:\n",
    "    if(i=='Monday'):\n",
    "        cm=cm+1\n",
    "    elif(i=='Tuesday'):\n",
    "        ct=ct+1\n",
    "    elif(i=='Wednesday'):\n",
    "        cw=cw+1\n",
    "    elif(i=='Thursday'):\n",
    "        cth=cth+1\n",
    "    elif(i=='Friday'):\n",
    "        cf=cf+1\n",
    "    elif(i=='Saturday'):\n",
    "        csa=csa+1\n",
    "    elif(i=='Sunday'):\n",
    "        csu=csu+1\n",
    "print(cm,\" Monday's have +ve gains of BSE \")\n",
    "print(ct,\" Tuesday's +ve gains of BSE  \")\n",
    "print(cw,\" Wednesday's +ve gains of BSE  \")\n",
    "print(cth,\" Thursday's +ve gains of BSE  \")\n",
    "print(cf,\" Friday's +ve gains of BSE  \")\n",
    "print(csa,\" Saturday's +ve gains of BSE  \")\n",
    "print(csu,\" Sunday's +ve gains of BSE  \")\n",
    "\n",
    "        "
   ]
  },
  {
   "cell_type": "code",
   "execution_count": 237,
   "metadata": {},
   "outputs": [
    {
     "name": "stdout",
     "output_type": "stream",
     "text": [
      "279  Monday's have -ve gains of BSE \n",
      "283  Tuesday's -ve gains of BSE  \n",
      "272  Wednesday's -ve gains of BSE  \n",
      "267  Thursday's -ve gains of BSE  \n",
      "266  Friday's -ve gains of BSE  \n",
      "7  Saturday's -ve gains of BSE  \n",
      "3  Sunday's -ve gains of BSE  \n"
     ]
    }
   ],
   "source": [
    "ds8max=ds8[(ds8['BSE %gain'] < 0)]\n",
    "l1=[]\n",
    "l1=ds8max['Day']\n",
    "cm=0\n",
    "ct=0\n",
    "cw=0\n",
    "cth=0\n",
    "cf=0\n",
    "csa=0\n",
    "csu=0\n",
    "for i in l1:\n",
    "    if(i=='Monday'):\n",
    "        cm=cm+1\n",
    "    elif(i=='Tuesday'):\n",
    "        ct=ct+1\n",
    "    elif(i=='Wednesday'):\n",
    "        cw=cw+1\n",
    "    elif(i=='Thursday'):\n",
    "        cth=cth+1\n",
    "    elif(i=='Friday'):\n",
    "        cf=cf+1\n",
    "    elif(i=='Saturday'):\n",
    "        csa=csa+1\n",
    "    elif(i=='Sunday'):\n",
    "        csu=csu+1\n",
    "print(cm,\" Monday's have -ve gains of BSE \")\n",
    "print(ct,\" Tuesday's -ve gains of BSE  \")\n",
    "print(cw,\" Wednesday's -ve gains of BSE  \")\n",
    "print(cth,\" Thursday's -ve gains of BSE  \")\n",
    "print(cf,\" Friday's -ve gains of BSE  \")\n",
    "print(csa,\" Saturday's -ve gains of BSE  \")\n",
    "print(csu,\" Sunday's -ve gains of BSE  \")\n",
    "\n",
    "        "
   ]
  },
  {
   "cell_type": "code",
   "execution_count": 238,
   "metadata": {},
   "outputs": [
    {
     "name": "stdout",
     "output_type": "stream",
     "text": [
      "21  Monday's have +ve gains of BSE from Top 100\n",
      "19  Tuesday's +ve gains of BSE from Top 100 \n",
      "16  Wednesday's +ve gains of BSE from Top 100 \n",
      "24  Thursday's +ve gains of BSE from Top 100 \n",
      "20  Friday's +ve gains of BSE from Top 100 \n",
      "0  Saturday's +ve gains of BSE from Top 100 \n",
      "0  Sunday's +ve gains of BSE from Top 100 \n"
     ]
    }
   ],
   "source": [
    "list1=ds8.nlargest(100,'BSE %gain')\n",
    "lsub1=[]\n",
    "lsub1=list1['Day']\n",
    "cm=0\n",
    "ct=0\n",
    "cw=0\n",
    "cth=0\n",
    "cf=0\n",
    "csa=0\n",
    "csu=0\n",
    "for i in lsub1:\n",
    "    if(i=='Monday'):\n",
    "        cm=cm+1\n",
    "    elif(i=='Tuesday'):\n",
    "        ct=ct+1\n",
    "    elif(i=='Wednesday'):\n",
    "        cw=cw+1\n",
    "    elif(i=='Thursday'):\n",
    "        cth=cth+1\n",
    "    elif(i=='Friday'):\n",
    "        cf=cf+1\n",
    "    elif(i=='Saturday'):\n",
    "        csa=csa+1\n",
    "    elif(i=='Sunday'):\n",
    "        csu=csu+1\n",
    "print(cm,\" Monday's have +ve gains of BSE from Top 100\")\n",
    "print(ct,\" Tuesday's +ve gains of BSE from Top 100 \")\n",
    "print(cw,\" Wednesday's +ve gains of BSE from Top 100 \")\n",
    "print(cth,\" Thursday's +ve gains of BSE from Top 100 \")\n",
    "print(cf,\" Friday's +ve gains of BSE from Top 100 \")\n",
    "print(csa,\" Saturday's +ve gains of BSE from Top 100 \")\n",
    "print(csu,\" Sunday's +ve gains of BSE from Top 100 \")\n",
    "        \n"
   ]
  },
  {
   "cell_type": "code",
   "execution_count": 239,
   "metadata": {},
   "outputs": [
    {
     "name": "stdout",
     "output_type": "stream",
     "text": [
      "29  Monday's have -ve gains of BSE from Top 100\n",
      "9  Tuesday's -ve gains of BSE from Top 100 \n",
      "20  Wednesday's -ve gains of BSE from Top 100 \n",
      "21  Thursday's -ve gains of BSE from Top 100 \n",
      "19  Friday's -ve gains of BSE from Top 100 \n",
      "2  Saturday's -ve gains of BSE from Top 100 \n",
      "0  Sunday's -ve gains of BSE from Top 100 \n"
     ]
    }
   ],
   "source": [
    "list1=ds8.nsmallest(100,'BSE %gain')\n",
    "lsub1=[]\n",
    "lsub1=list1['Day']\n",
    "cm=0\n",
    "ct=0\n",
    "cw=0\n",
    "cth=0\n",
    "cf=0\n",
    "csa=0\n",
    "csu=0\n",
    "for i in lsub1:\n",
    "    if(i=='Monday'):\n",
    "        cm=cm+1\n",
    "    elif(i=='Tuesday'):\n",
    "        ct=ct+1\n",
    "    elif(i=='Wednesday'):\n",
    "        cw=cw+1\n",
    "    elif(i=='Thursday'):\n",
    "        cth=cth+1\n",
    "    elif(i=='Friday'):\n",
    "        cf=cf+1\n",
    "    elif(i=='Saturday'):\n",
    "        csa=csa+1\n",
    "    elif(i=='Sunday'):\n",
    "        csu=csu+1\n",
    "print(cm,\" Monday's have -ve gains of BSE from Top 100\")\n",
    "print(ct,\" Tuesday's -ve gains of BSE from Top 100 \")\n",
    "print(cw,\" Wednesday's -ve gains of BSE from Top 100 \")\n",
    "print(cth,\" Thursday's -ve gains of BSE from Top 100 \")\n",
    "print(cf,\" Friday's -ve gains of BSE from Top 100 \")\n",
    "print(csa,\" Saturday's -ve gains of BSE from Top 100 \")\n",
    "print(csu,\" Sunday's -ve gains of BSE from Top 100 \")\n",
    "        \n"
   ]
  },
  {
   "cell_type": "markdown",
   "metadata": {},
   "source": [
    "### BSE END"
   ]
  },
  {
   "cell_type": "markdown",
   "metadata": {},
   "source": [
    "## Q4. Compare and find % gains if we invest among one of 5 stocks for a period of 1 month, 3 months, 6 months, 1 year, 3 years, 5 years, and 10 years."
   ]
  },
  {
   "cell_type": "code",
   "execution_count": 141,
   "metadata": {},
   "outputs": [],
   "source": [
    "import pandas as pd\n",
    "ds8=pd.read_csv('bda_added%gains.csv')\n",
    "## buys at close sells at open"
   ]
  },
  {
   "cell_type": "code",
   "execution_count": 182,
   "metadata": {},
   "outputs": [
    {
     "name": "stdout",
     "output_type": "stream",
     "text": [
      "Value of Stock after invest of  20  days is ₹870,614.86\n",
      "Value of Stock after invest of  60  days is ₹939,079.59\n",
      "Value of Stock after invest of  120  days is ₹710,486.61\n",
      "Value of Stock after invest of  245  days is ₹800,829.88\n",
      "Value of Stock after invest of  735  days is ₹1,062,995.10\n",
      "Value of Stock after invest of  1225  days is ₹1,546,586.19\n",
      "Value of Stock after invest of  2450  days is ₹3,923,047.91\n"
     ]
    }
   ],
   "source": [
    "index=ds8[ds8['Date']=='3-Jan-11']\n",
    "ind1=index['Index']\n",
    "buy=ds8['Tata Commn Close Price'][ind1]\n",
    "money=1000000\n",
    "noofshares=(money/buy).tolist()\n",
    "ranges=[20,60,120,245,735,1225,2450]\n",
    "\n",
    "for i in ranges:\n",
    "    ind=ind1-i\n",
    "    ind=ind.tolist()\n",
    "    ind\n",
    "\n",
    "    price=ds8['Tata Comm Open Price'][ind[0]]\n",
    "    shreprice=(price*noofshares[0])\n",
    "    print(\"Value of Stock after invest of \",i,\" days is ₹{:,.2f}\".format(shreprice))\n",
    "    \n",
    "\n"
   ]
  },
  {
   "cell_type": "code",
   "execution_count": 183,
   "metadata": {},
   "outputs": [
    {
     "name": "stdout",
     "output_type": "stream",
     "text": [
      "Value of Stock after invest of  20  days is ₹913,763.07\n",
      "Value of Stock after invest of  60  days is ₹799,651.57\n",
      "Value of Stock after invest of  120  days is ₹727,351.92\n",
      "Value of Stock after invest of  245  days is ₹402,439.02\n",
      "Value of Stock after invest of  735  days is ₹249,477.35\n",
      "Value of Stock after invest of  1225  days is ₹348,432.06\n",
      "Value of Stock after invest of  2450  days is ₹164,111.50\n"
     ]
    }
   ],
   "source": [
    "index=ds8[ds8['Date']=='3-Jan-11']\n",
    "ind1=index['Index']\n",
    "buy=ds8['Mtnl Close Price'][ind1]\n",
    "money=1000000\n",
    "noofshares=(money/buy).tolist()\n",
    "ranges=[20,60,120,245,735,1225,2450]\n",
    "\n",
    "for i in ranges:\n",
    "    ind=ind1-i\n",
    "    ind=ind.tolist()\n",
    "    ind\n",
    "\n",
    "    price=ds8['Mtnl Open Price'][ind[0]]\n",
    "    shreprice=(price*noofshares[0])\n",
    "    print(\"Value of Stock after invest of \",i,\" days is ₹{:,.2f}\".format(shreprice))\n",
    "    \n",
    "\n"
   ]
  },
  {
   "cell_type": "code",
   "execution_count": 184,
   "metadata": {},
   "outputs": [
    {
     "name": "stdout",
     "output_type": "stream",
     "text": [
      "Value of Stock after invest of  20  days is ₹843,813.39\n",
      "Value of Stock after invest of  60  days is ₹745,436.11\n",
      "Value of Stock after invest of  120  days is ₹616,632.86\n",
      "Value of Stock after invest of  245  days is ₹486,139.28\n",
      "Value of Stock after invest of  735  days is ₹895,875.59\n",
      "Value of Stock after invest of  1225  days is ₹516,565.25\n",
      "Value of Stock after invest of  2450  days is ₹10,141.99\n"
     ]
    }
   ],
   "source": [
    "index=ds8[ds8['Date']=='3-Jan-11']\n",
    "ind1=index['Index']\n",
    "buy=ds8['Reliance Close Price'][ind1]\n",
    "money=1000000\n",
    "noofshares=(money/buy).tolist()\n",
    "ranges=[20,60,120,245,735,1225,2450]\n",
    "\n",
    "for i in ranges:\n",
    "    ind=ind1-i\n",
    "    ind=ind.tolist()\n",
    "    ind\n",
    "\n",
    "    price=ds8['Reliance Open Price'][ind[0]]\n",
    "    shreprice=(price*noofshares[0])\n",
    "    print(\"Value of Stock after invest of \",i,\" days is ₹{:,.2f}\".format(shreprice))\n",
    "    \n",
    "\n"
   ]
  },
  {
   "cell_type": "code",
   "execution_count": 185,
   "metadata": {},
   "outputs": [
    {
     "name": "stdout",
     "output_type": "stream",
     "text": [
      "Value of Stock after invest of  20  days is ₹898,845.14\n",
      "Value of Stock after invest of  60  days is ₹1,001,808.82\n",
      "Value of Stock after invest of  120  days is ₹1,082,510.09\n",
      "Value of Stock after invest of  245  days is ₹949,770.42\n",
      "Value of Stock after invest of  735  days is ₹915,263.67\n",
      "Value of Stock after invest of  1225  days is ₹865,451.51\n",
      "Value of Stock after invest of  2450  days is ₹1,357,590.09\n"
     ]
    }
   ],
   "source": [
    "index=ds8[ds8['Date']=='3-Jan-11']\n",
    "ind1=index['Index']\n",
    "buy=ds8['Airtel Close Price'][ind1]\n",
    "money=1000000\n",
    "noofshares=(money/buy).tolist()\n",
    "ranges=[20,60,120,245,735,1225,2450]\n",
    "\n",
    "for i in ranges:\n",
    "    ind=ind1-i\n",
    "    ind=ind.tolist()\n",
    "    ind\n",
    "\n",
    "    price=ds8['Airtel Open Price'][ind[0]]\n",
    "    shreprice=(price*noofshares[0])\n",
    "    print(\"Value of Stock after invest of \",i,\" days is ₹{:,.2f}\".format(shreprice))\n",
    "    \n",
    "\n"
   ]
  },
  {
   "cell_type": "code",
   "execution_count": 187,
   "metadata": {},
   "outputs": [
    {
     "name": "stdout",
     "output_type": "stream",
     "text": [
      "Value of Stock after invest of  20  days is ₹990,099.01\n",
      "Value of Stock after invest of  60  days is ₹954,738.33\n",
      "Value of Stock after invest of  120  days is ₹1,053,748.23\n",
      "Value of Stock after invest of  245  days is ₹1,142,149.93\n",
      "Value of Stock after invest of  735  days is ₹2,418,670.44\n",
      "Value of Stock after invest of  1225  days is ₹1,948,373.41\n",
      "Value of Stock after invest of  1470  days is ₹1,074,964.64\n",
      "Value of Stock after invest of  1715  days is ₹1,331,683.17\n",
      "Value of Stock after invest of  1960  days is ₹533,946.25\n",
      "Value of Stock after invest of  2205  days is ₹111,739.75\n",
      "Value of Stock after invest of  2450  days is ₹145,403.11\n"
     ]
    }
   ],
   "source": [
    "index=ds8[ds8['Date']=='3-Jan-11']\n",
    "ind1=index['Index']\n",
    "buy=ds8['Vodafone Close Price'][ind1]\n",
    "money=1000000\n",
    "noofshares=(money/buy).tolist()\n",
    "ranges=[20,60,120,245,735,1225,1470,1715,1960,2205,2450]\n",
    "\n",
    "for i in ranges:\n",
    "    ind=ind1-i\n",
    "    ind=ind.tolist()\n",
    "    ind\n",
    "\n",
    "    price=ds8['Vodafone Open Price'][ind[0]]\n",
    "    shreprice=(price*noofshares[0])\n",
    "    print(\"Value of Stock after invest of \",i,\" days is ₹{:,.2f}\".format(shreprice))\n",
    "    \n",
    "\n"
   ]
  },
  {
   "cell_type": "code",
   "execution_count": null,
   "metadata": {},
   "outputs": [],
   "source": []
  }
 ],
 "metadata": {
  "kernelspec": {
   "display_name": "Python 3",
   "language": "python",
   "name": "python3"
  },
  "language_info": {
   "codemirror_mode": {
    "name": "ipython",
    "version": 3
   },
   "file_extension": ".py",
   "mimetype": "text/x-python",
   "name": "python",
   "nbconvert_exporter": "python",
   "pygments_lexer": "ipython3",
   "version": "3.8.5"
  }
 },
 "nbformat": 4,
 "nbformat_minor": 4
}
